{
 "cells": [
  {
   "cell_type": "markdown",
   "metadata": {},
   "source": [
    "# Evaluate models, generate metrics and plots\n",
    "\n",
    "The notebook also generates predictions from different models. If the predictions are already generated, just run the cells below \"group results together\" and its dependencies including the imports below.\n",
    "\n",
    "**Warning:** The notebook requires GPU and 16GB RAM to run. We recommend running the cell below with imports and running all the cells under \"Group results together\" heading cell to directly use the already generated predictions. "
   ]
  },
  {
   "cell_type": "code",
   "execution_count": 1,
   "metadata": {
    "ExecuteTime": {
     "end_time": "2021-03-20T13:29:31.410495Z",
     "start_time": "2021-03-20T13:29:22.126936Z"
    }
   },
   "outputs": [],
   "source": [
    "import pandas as pd\n",
    "import numpy as np\n",
    "import matplotlib\n",
    "import matplotlib.pyplot as plt\n",
    "import seaborn as sns\n",
    "from tqdm import tqdm\n",
    "\n",
    "from sklearn.metrics import *\n",
    "from sklearn.model_selection import train_test_split\n",
    "from sklearn.compose import ColumnTransformer\n",
    "from sklearn.preprocessing import MaxAbsScaler, Binarizer\n",
    "\n",
    "from joblib import load, dump\n",
    "import joblib\n",
    "import pickle\n",
    "\n",
    "import gc\n",
    "import sys\n",
    "\n",
    "%matplotlib inline"
   ]
  },
  {
   "cell_type": "code",
   "execution_count": 2,
   "metadata": {
    "ExecuteTime": {
     "end_time": "2021-03-20T13:29:31.432707Z",
     "start_time": "2021-03-20T13:29:31.420604Z"
    }
   },
   "outputs": [],
   "source": [
    "SEED = 42\n",
    "np.random.seed(SEED)"
   ]
  },
  {
   "cell_type": "markdown",
   "metadata": {},
   "source": [
    "# Results for aggregated models"
   ]
  },
  {
   "cell_type": "markdown",
   "metadata": {},
   "source": [
    "## Load data"
   ]
  },
  {
   "cell_type": "code",
   "execution_count": 3,
   "metadata": {
    "ExecuteTime": {
     "end_time": "2021-03-20T13:30:54.785627Z",
     "start_time": "2021-03-20T13:29:31.438337Z"
    }
   },
   "outputs": [
    {
     "name": "stdout",
     "output_type": "stream",
     "text": [
      "6m :  (89994, 1506)  12m :  (89282, 1510)\n"
     ]
    }
   ],
   "source": [
    "filepath_6m = 'data/6 month/'\n",
    "data_6m = pd.read_feather(filepath_6m + 'flat_6m.feather')\n",
    "filepath_12m = 'data/12 month/'\n",
    "data_12m = pd.read_feather(filepath_12m + 'flat_12m.feather')\n",
    "\n",
    "# drop age outliers\n",
    "data_6m = data_6m.loc[data_6m['age']<100,:]\n",
    "data_12m = data_12m.loc[data_12m['age']<100,:]\n",
    "\n",
    "print('6m : ', data_6m.shape, ' 12m : ', data_12m.shape)"
   ]
  },
  {
   "cell_type": "code",
   "execution_count": 4,
   "metadata": {
    "ExecuteTime": {
     "end_time": "2021-03-20T13:30:56.644321Z",
     "start_time": "2021-03-20T13:30:54.787473Z"
    }
   },
   "outputs": [
    {
     "name": "stdout",
     "output_type": "stream",
     "text": [
      "6m train/test :  (71995, 1506) (17999, 1506)\n",
      "12m train/test :  (71425, 1510) (17857, 1510)\n"
     ]
    }
   ],
   "source": [
    "with open(filepath_6m + '6m_test_ids.pkl', 'rb') as f:\n",
    "    test_ids_6 = pickle.load(f)\n",
    "\n",
    "train_6m = data_6m[~data_6m['id'].isin(test_ids_6)]\n",
    "test_6m = data_6m[data_6m['id'].isin(test_ids_6)]\n",
    "print('6m train/test : ', train_6m.shape, test_6m.shape)\n",
    "\n",
    "with open(filepath_12m + '12m_test_ids.pkl', 'rb') as f:\n",
    "    test_ids_12 = pickle.load(f)\n",
    " \n",
    "train_12m = data_12m[~data_12m['id'].isin(test_ids_12)]\n",
    "test_12m = data_12m[data_12m['id'].isin(test_ids_12)]\n",
    "print('12m train/test : ', train_12m.shape, test_12m.shape)"
   ]
  },
  {
   "cell_type": "code",
   "execution_count": 5,
   "metadata": {
    "ExecuteTime": {
     "end_time": "2021-03-20T13:30:56.699324Z",
     "start_time": "2021-03-20T13:30:56.646772Z"
    }
   },
   "outputs": [
    {
     "data": {
      "text/plain": [
       "40"
      ]
     },
     "execution_count": 5,
     "metadata": {},
     "output_type": "execute_result"
    }
   ],
   "source": [
    "del data_6m\n",
    "del data_12m\n",
    "\n",
    "gc.collect()"
   ]
  },
  {
   "cell_type": "markdown",
   "metadata": {
    "heading_collapsed": true
   },
   "source": [
    "## Preprocess "
   ]
  },
  {
   "cell_type": "code",
   "execution_count": 6,
   "metadata": {
    "ExecuteTime": {
     "end_time": "2021-03-20T13:31:00.959328Z",
     "start_time": "2021-03-20T13:30:56.702406Z"
    },
    "hidden": true
   },
   "outputs": [
    {
     "name": "stdout",
     "output_type": "stream",
     "text": [
      "(71779, 1441) (17954, 1441)\n",
      "(71236, 1446) (17803, 1446)\n"
     ]
    }
   ],
   "source": [
    "from preprocessing import Preprocessor\n",
    "\n",
    "preproc = Preprocessor()\n",
    "\n",
    "X_train_6, Y_train_6 = preproc.fit_transform(train_6m)\n",
    "X_test_6, Y_test_6 = preproc.transform(test_6m)\n",
    "print(X_train_6.shape, X_test_6.shape)\n",
    "\n",
    "preproc = Preprocessor()\n",
    "\n",
    "X_train_12, Y_train_12 = preproc.fit_transform(train_12m)\n",
    "X_test_12, Y_test_12 = preproc.transform(test_12m)\n",
    "print(X_train_12.shape, X_test_12.shape)"
   ]
  },
  {
   "cell_type": "code",
   "execution_count": 7,
   "metadata": {
    "ExecuteTime": {
     "end_time": "2021-03-20T13:31:00.965889Z",
     "start_time": "2021-03-20T13:31:00.961585Z"
    },
    "hidden": true
   },
   "outputs": [],
   "source": [
    "assert X_train_6.shape[1] == X_test_6.shape[1]\n",
    "assert X_train_12.shape[1] == X_test_12.shape[1]"
   ]
  },
  {
   "cell_type": "code",
   "execution_count": 8,
   "metadata": {
    "ExecuteTime": {
     "end_time": "2021-03-20T13:31:01.085577Z",
     "start_time": "2021-03-20T13:31:00.970158Z"
    },
    "hidden": true
   },
   "outputs": [],
   "source": [
    "ct6 = ColumnTransformer(\n",
    "    [(\"age_norm\", MaxAbsScaler(), ['age']),\n",
    "    ('sex_pass', 'passthrough', ['sex'])],\n",
    "    remainder=Binarizer())\n",
    "\n",
    "ct12 = ColumnTransformer(\n",
    "    [(\"age_norm\", MaxAbsScaler(), ['age']),\n",
    "    ('sex_pass', 'passthrough', ['sex'])],\n",
    "    remainder=Binarizer())"
   ]
  },
  {
   "cell_type": "markdown",
   "metadata": {},
   "source": [
    "## Map models from files\n",
    "\n",
    "Load models from the file to a dictionary creating a mapping of dict -> model"
   ]
  },
  {
   "cell_type": "code",
   "execution_count": 9,
   "metadata": {
    "ExecuteTime": {
     "end_time": "2021-03-20T13:31:01.523041Z",
     "start_time": "2021-03-20T13:31:01.095185Z"
    }
   },
   "outputs": [
    {
     "name": "stdout",
     "output_type": "stream",
     "text": [
      "6m_DecisionTreeClassifier.joblib  6m_LogisticRegression.joblib\n",
      "6m_LGBMClassifier.joblib\t  6m_RandomForestClassifier.joblib\n",
      "12m_DecisionTreeClassifier.joblib  12m_LogisticRegression.joblib\n",
      "12m_LGBMClassifier.joblib\t   12m_RandomForestClassifier.joblib\n"
     ]
    }
   ],
   "source": [
    "! ls models/6m\\ agg && ls models/12m\\ agg"
   ]
  },
  {
   "cell_type": "code",
   "execution_count": 10,
   "metadata": {
    "ExecuteTime": {
     "end_time": "2021-03-20T13:31:01.545383Z",
     "start_time": "2021-03-20T13:31:01.530904Z"
    }
   },
   "outputs": [],
   "source": [
    "models12_path = 'models/12m agg/'\n",
    "models6_path = 'models/6m agg/'"
   ]
  },
  {
   "cell_type": "code",
   "execution_count": 11,
   "metadata": {
    "ExecuteTime": {
     "end_time": "2021-03-20T13:31:05.332376Z",
     "start_time": "2021-03-20T13:31:01.547716Z"
    }
   },
   "outputs": [
    {
     "name": "stderr",
     "output_type": "stream",
     "text": [
      "/run/media/surya/F/codes/research/TMU/CKD/CKD-public/env/lib/python3.7/site-packages/sklearn/base.py:318: UserWarning: Trying to unpickle estimator DecisionTreeClassifier from version 0.22.2.post1 when using version 0.22.1. This might lead to breaking code or invalid results. Use at your own risk.\n",
      "  UserWarning)\n",
      "/run/media/surya/F/codes/research/TMU/CKD/CKD-public/env/lib/python3.7/site-packages/sklearn/base.py:318: UserWarning: Trying to unpickle estimator RandomForestClassifier from version 0.22.2.post1 when using version 0.22.1. This might lead to breaking code or invalid results. Use at your own risk.\n",
      "  UserWarning)\n"
     ]
    }
   ],
   "source": [
    "models_6 = {\n",
    "    'lightgbm': load(models6_path + '6m_LGBMClassifier.joblib'),\n",
    "    'decisiontree': load(models6_path + '6m_DecisionTreeClassifier.joblib'),\n",
    "    'randomforest': load(models6_path + '6m_RandomForestClassifier.joblib'),\n",
    "    'logistic': load(models6_path + '6m_LogisticRegression.joblib')\n",
    "}"
   ]
  },
  {
   "cell_type": "code",
   "execution_count": 12,
   "metadata": {
    "ExecuteTime": {
     "end_time": "2021-03-20T13:31:07.665656Z",
     "start_time": "2021-03-20T13:31:05.335611Z"
    }
   },
   "outputs": [
    {
     "name": "stderr",
     "output_type": "stream",
     "text": [
      "/run/media/surya/F/codes/research/TMU/CKD/CKD-public/env/lib/python3.7/site-packages/sklearn/base.py:318: UserWarning: Trying to unpickle estimator LogisticRegression from version 0.22.2.post1 when using version 0.22.1. This might lead to breaking code or invalid results. Use at your own risk.\n",
      "  UserWarning)\n"
     ]
    }
   ],
   "source": [
    "models_12 = {\n",
    "    'lightgbm': load(models12_path + '12m_LGBMClassifier.joblib'),\n",
    "    'decisiontree': load(models12_path + '12m_DecisionTreeClassifier.joblib'),\n",
    "    'randomforest': load(models12_path + '12m_RandomForestClassifier.joblib'),\n",
    "    'logistic': load(models12_path + '12m_LogisticRegression.joblib')\n",
    "}"
   ]
  },
  {
   "cell_type": "markdown",
   "metadata": {},
   "source": [
    "## Generate results and store it in a dict\n",
    "\n",
    "```python\n",
    "{\n",
    "    y: y_true,\n",
    "    algoname: {\n",
    "        pred: [],\n",
    "        pred_proba: []\n",
    "    }\n",
    "}\n",
    "```"
   ]
  },
  {
   "cell_type": "code",
   "execution_count": 13,
   "metadata": {
    "ExecuteTime": {
     "end_time": "2021-03-20T13:31:14.724090Z",
     "start_time": "2021-03-20T13:31:07.667538Z"
    }
   },
   "outputs": [
    {
     "data": {
      "text/plain": [
       "ColumnTransformer(n_jobs=None, remainder=Binarizer(copy=True, threshold=0.0),\n",
       "                  sparse_threshold=0.3, transformer_weights=None,\n",
       "                  transformers=[('age_norm', MaxAbsScaler(copy=True), ['age']),\n",
       "                                ('sex_pass', 'passthrough', ['sex'])],\n",
       "                  verbose=False)"
      ]
     },
     "execution_count": 13,
     "metadata": {},
     "output_type": "execute_result"
    }
   ],
   "source": [
    "ct6.fit(X_train_6)\n",
    "ct12.fit(X_train_12)"
   ]
  },
  {
   "cell_type": "code",
   "execution_count": 14,
   "metadata": {
    "ExecuteTime": {
     "end_time": "2021-03-20T13:31:14.734071Z",
     "start_time": "2021-03-20T13:31:14.726759Z"
    }
   },
   "outputs": [
    {
     "data": {
      "text/plain": [
       "((71236, 1446), (71779, 1441))"
      ]
     },
     "execution_count": 14,
     "metadata": {},
     "output_type": "execute_result"
    }
   ],
   "source": [
    "X_train_12.shape, X_train_6.shape"
   ]
  },
  {
   "cell_type": "code",
   "execution_count": 15,
   "metadata": {
    "ExecuteTime": {
     "end_time": "2021-03-20T13:31:20.052039Z",
     "start_time": "2021-03-20T13:31:14.736458Z"
    },
    "scrolled": true
   },
   "outputs": [
    {
     "name": "stderr",
     "output_type": "stream",
     "text": [
      " 50%|█████     | 2/4 [00:02<00:03,  1.83s/it][Parallel(n_jobs=4)]: Using backend ThreadingBackend with 4 concurrent workers.\n",
      "[Parallel(n_jobs=4)]: Done  42 tasks      | elapsed:    0.2s\n",
      "[Parallel(n_jobs=4)]: Done 192 tasks      | elapsed:    0.4s\n",
      "[Parallel(n_jobs=4)]: Done 442 tasks      | elapsed:    0.9s\n",
      "[Parallel(n_jobs=4)]: Done 792 tasks      | elapsed:    1.4s\n",
      "[Parallel(n_jobs=4)]: Done 800 out of 800 | elapsed:    1.4s finished\n",
      "[Parallel(n_jobs=4)]: Using backend ThreadingBackend with 4 concurrent workers.\n",
      "[Parallel(n_jobs=4)]: Done  42 tasks      | elapsed:    0.1s\n",
      "[Parallel(n_jobs=4)]: Done 192 tasks      | elapsed:    0.3s\n",
      "[Parallel(n_jobs=4)]: Done 442 tasks      | elapsed:    0.7s\n",
      "[Parallel(n_jobs=4)]: Done 792 tasks      | elapsed:    1.3s\n",
      "[Parallel(n_jobs=4)]: Done 800 out of 800 | elapsed:    1.3s finished\n",
      "100%|██████████| 4/4 [00:06<00:00,  1.62s/it]\n"
     ]
    }
   ],
   "source": [
    "preds_6 = {\n",
    "    'y': Y_test_6\n",
    "}\n",
    "\n",
    "algos_with_preproc = ['logistic']\n",
    "\n",
    "for algoname, model in tqdm(models_6.items()):\n",
    "    if algoname in algos_with_preproc:\n",
    "        X_test = ct6.transform(X_test_6)\n",
    "    else:\n",
    "        X_test = X_test_6.copy()\n",
    "    y_pred = model.predict(X_test)\n",
    "    y_pred_proba = model.predict_proba(X_test)[:,1]\n",
    "    \n",
    "    preds_6[algoname] = {\n",
    "        'pred': y_pred,\n",
    "        'pred_proba': y_pred_proba\n",
    "    }"
   ]
  },
  {
   "cell_type": "code",
   "execution_count": 16,
   "metadata": {
    "ExecuteTime": {
     "end_time": "2021-03-20T13:31:24.715676Z",
     "start_time": "2021-03-20T13:31:20.054005Z"
    }
   },
   "outputs": [
    {
     "name": "stderr",
     "output_type": "stream",
     "text": [
      " 50%|█████     | 2/4 [00:02<00:03,  1.50s/it][Parallel(n_jobs=4)]: Using backend ThreadingBackend with 4 concurrent workers.\n",
      "[Parallel(n_jobs=4)]: Done  42 tasks      | elapsed:    0.1s\n",
      "[Parallel(n_jobs=4)]: Done 192 tasks      | elapsed:    0.3s\n",
      "[Parallel(n_jobs=4)]: Done 442 tasks      | elapsed:    0.7s\n",
      "[Parallel(n_jobs=4)]: Done 792 tasks      | elapsed:    1.2s\n",
      "[Parallel(n_jobs=4)]: Done 800 out of 800 | elapsed:    1.2s finished\n",
      "[Parallel(n_jobs=4)]: Using backend ThreadingBackend with 4 concurrent workers.\n",
      "[Parallel(n_jobs=4)]: Done  42 tasks      | elapsed:    0.1s\n",
      "[Parallel(n_jobs=4)]: Done 192 tasks      | elapsed:    0.3s\n",
      "[Parallel(n_jobs=4)]: Done 442 tasks      | elapsed:    0.7s\n",
      "[Parallel(n_jobs=4)]: Done 792 tasks      | elapsed:    1.1s\n",
      "[Parallel(n_jobs=4)]: Done 800 out of 800 | elapsed:    1.2s finished\n",
      "100%|██████████| 4/4 [00:05<00:00,  1.36s/it]\n"
     ]
    }
   ],
   "source": [
    "preds_12 = {\n",
    "    'y': Y_test_12\n",
    "}\n",
    "\n",
    "algos_with_preproc = ['logistic']\n",
    "\n",
    "for algoname, model in tqdm(models_12.items()):\n",
    "    if algoname in algos_with_preproc:\n",
    "        X_test = ct12.transform(X_test_12)\n",
    "    else:\n",
    "        X_test = X_test_12.copy()\n",
    "    y_pred = model.predict(X_test)\n",
    "    y_pred_proba = model.predict_proba(X_test)[:,1]\n",
    "    \n",
    "    preds_12[algoname] = {\n",
    "        'pred': y_pred,\n",
    "        'pred_proba': y_pred_proba\n",
    "    }"
   ]
  },
  {
   "cell_type": "code",
   "execution_count": 17,
   "metadata": {
    "ExecuteTime": {
     "end_time": "2021-03-20T13:31:24.936375Z",
     "start_time": "2021-03-20T13:31:24.717664Z"
    },
    "scrolled": true
   },
   "outputs": [
    {
     "data": {
      "text/plain": [
       "['predictions_6m.joblib']"
      ]
     },
     "execution_count": 17,
     "metadata": {},
     "output_type": "execute_result"
    }
   ],
   "source": [
    "dump(preds_6, 'predictions_6m.joblib')"
   ]
  },
  {
   "cell_type": "code",
   "execution_count": 18,
   "metadata": {
    "ExecuteTime": {
     "end_time": "2021-03-20T13:31:24.992410Z",
     "start_time": "2021-03-20T13:31:24.938430Z"
    }
   },
   "outputs": [
    {
     "data": {
      "text/plain": [
       "['predictions_12m.joblib']"
      ]
     },
     "execution_count": 18,
     "metadata": {},
     "output_type": "execute_result"
    }
   ],
   "source": [
    "dump(preds_12, 'predictions_12m.joblib')"
   ]
  },
  {
   "cell_type": "markdown",
   "metadata": {},
   "source": [
    "# Results for deep learning and semi-temporal model"
   ]
  },
  {
   "cell_type": "markdown",
   "metadata": {},
   "source": [
    "```python\n",
    "{\n",
    "    y: y_true,\n",
    "    algoname: {\n",
    "        pred: [],\n",
    "        pred_proba: []\n",
    "    }\n",
    "}\n",
    "```"
   ]
  },
  {
   "cell_type": "code",
   "execution_count": 19,
   "metadata": {
    "ExecuteTime": {
     "end_time": "2021-03-20T13:31:49.571535Z",
     "start_time": "2021-03-20T13:31:24.994734Z"
    }
   },
   "outputs": [],
   "source": [
    "import tensorflow as tf\n",
    "from tensorflow.keras.models import load_model\n",
    "import tensorflow.keras.backend as K"
   ]
  },
  {
   "cell_type": "code",
   "execution_count": 20,
   "metadata": {
    "ExecuteTime": {
     "end_time": "2021-03-20T13:31:49.579301Z",
     "start_time": "2021-03-20T13:31:49.574772Z"
    }
   },
   "outputs": [],
   "source": [
    "tf.random.set_seed(SEED)"
   ]
  },
  {
   "cell_type": "code",
   "execution_count": 21,
   "metadata": {
    "ExecuteTime": {
     "end_time": "2021-03-20T13:31:49.664533Z",
     "start_time": "2021-03-20T13:31:49.581967Z"
    }
   },
   "outputs": [],
   "source": [
    "def f1(y_true, y_pred):\n",
    "    def recall(y_true, y_pred):\n",
    "        \"\"\"Recall metric.\n",
    "\n",
    "        Only computes a batch-wise average of recall.\n",
    "\n",
    "        Computes the recall, a metric for multi-label classification of\n",
    "        how many relevant items are selected.\n",
    "        \"\"\"\n",
    "        true_positives = K.sum(K.round(K.clip(y_true * y_pred, 0, 1)))\n",
    "        possible_positives = K.sum(K.round(K.clip(y_true, 0, 1)))\n",
    "        recall = true_positives / (possible_positives + K.epsilon())\n",
    "        return recall\n",
    "\n",
    "    def precision(y_true, y_pred):\n",
    "        \"\"\"Precision metric.\n",
    "\n",
    "        Only computes a batch-wise average of precision.\n",
    "\n",
    "        Computes the precision, a metric for multi-label classification of\n",
    "        how many selected items are relevant.\n",
    "        \"\"\"\n",
    "        true_positives = K.sum(K.round(K.clip(y_true * y_pred, 0, 1)))\n",
    "        predicted_positives = K.sum(K.round(K.clip(y_pred, 0, 1)))\n",
    "        precision = true_positives / (predicted_positives + K.epsilon())\n",
    "        return precision\n",
    "\n",
    "    precision = precision(y_true, y_pred)\n",
    "    recall = recall(y_true, y_pred)\n",
    "    return 2 * ((precision * recall) / (precision + recall + K.epsilon()))"
   ]
  },
  {
   "cell_type": "markdown",
   "metadata": {},
   "source": [
    "\n",
    "## 6 months"
   ]
  },
  {
   "cell_type": "markdown",
   "metadata": {},
   "source": [
    "### Deep learning models"
   ]
  },
  {
   "cell_type": "code",
   "execution_count": 22,
   "metadata": {
    "ExecuteTime": {
     "end_time": "2021-03-20T13:31:49.893510Z",
     "start_time": "2021-03-20T13:31:49.666379Z"
    }
   },
   "outputs": [],
   "source": [
    "from data_loader import DataLoader\n",
    "import pickle"
   ]
  },
  {
   "cell_type": "markdown",
   "metadata": {},
   "source": [
    "Load the data generator"
   ]
  },
  {
   "cell_type": "code",
   "execution_count": 23,
   "metadata": {
    "ExecuteTime": {
     "end_time": "2021-03-20T13:31:58.237566Z",
     "start_time": "2021-03-20T13:31:49.925373Z"
    }
   },
   "outputs": [
    {
     "name": "stderr",
     "output_type": "stream",
     "text": [
      "Loading sparse dataset: 100%|██████████| 17998/17998 [00:00<00:00, 623135.14it/s]\n"
     ]
    }
   ],
   "source": [
    "with open('data/6 month/diag_dict.pkl', 'rb') as f:\n",
    "  diag = pickle.load(f)\n",
    "  diag_ids = list(diag.keys())\n",
    "\n",
    "with open('data/6 month/drug_dict.pkl', 'rb') as f:\n",
    "  drug = pickle.load(f)\n",
    "  drug_ids = list(drug.keys())\n",
    "    \n",
    "# get list of ids to use\n",
    "data_dir = \"data\"\n",
    "\n",
    "case = pd.read_feather(data_dir + '/case_age_sex.feather')\n",
    "control = pd.read_feather(data_dir + '/control_age_sex.feather')\n",
    "\n",
    "# remove age outliers\n",
    "case = case.loc[case['age'] < 100]\n",
    "control = control.loc[control['age'] < 100]\n",
    "\n",
    "case['label'] = 1\n",
    "control['label'] = 0\n",
    "data = pd.concat([case, control])\n",
    "data = data[data['sex'] != 'U']\n",
    "\n",
    "info_ids = set(case.id).union(set(control.id))\n",
    "list_ids = sorted(list(set(diag_ids) & set(drug_ids) & set(info_ids)))\n",
    "data = data.loc[data['id'].isin(list_ids)]\n",
    "\n",
    "# train test split\n",
    "train_ids, test_ids = train_test_split(data[['id', 'label']],\n",
    "                                       test_size=0.2,\n",
    "                                       shuffle=True,\n",
    "                                       stratify=data['label'],\n",
    "                                       random_state=SEED)\n",
    "train_ids, val_ids = train_test_split(train_ids,\n",
    "                                       test_size=0.2,\n",
    "                                       shuffle=True,\n",
    "                                       stratify=train_ids['label'],\n",
    "                                       random_state=SEED)\n",
    "\n",
    "train_ids = train_ids['id'].tolist()\n",
    "val_ids = val_ids['id'].tolist()\n",
    "test_ids = test_ids['id'].tolist()\n",
    "\n",
    "\n",
    "def preproc(X, X_, y):\n",
    "\n",
    "    if X.shape[-1] > 965:\n",
    "        X = np.delete(X, [(965 + 276)], axis=-1)  # id col in drug\n",
    "    \n",
    "    return X, X_, y\n",
    "\n",
    "test_generator = DataLoader(test_ids,\n",
    "                            data_dir,\n",
    "                            '/6 month',\n",
    "                            batch_size=128,\n",
    "                            include_drug=True,\n",
    "                            shuffle=False,\n",
    "                            preprocess_func=preproc)\n",
    "Y_test = test_generator.get_labels()\n",
    "\n",
    "deep_preds_6 = {\n",
    "    'y': Y_test\n",
    "}"
   ]
  },
  {
   "cell_type": "code",
   "execution_count": 24,
   "metadata": {
    "ExecuteTime": {
     "end_time": "2021-03-20T13:33:05.192747Z",
     "start_time": "2021-03-20T13:31:58.241520Z"
    },
    "jupyter": {
     "source_hidden": true
    }
   },
   "outputs": [
    {
     "name": "stdout",
     "output_type": "stream",
     "text": [
      "WARNING:tensorflow:From <ipython-input-24-19ab7ed0d2e9>:7: Model.predict_generator (from tensorflow.python.keras.engine.training) is deprecated and will be removed in a future version.\n",
      "Instructions for updating:\n",
      "Please use Model.predict, which supports generators.\n",
      "WARNING:tensorflow:multiprocessing can interact badly with TensorFlow, causing nondeterministic deadlocks. For high performance data pipelines tf.data is recommended.\n",
      "139/140 [============================>.] - ETA: 0sWARNING:tensorflow:multiprocessing can interact badly with TensorFlow, causing nondeterministic deadlocks. For high performance data pipelines tf.data is recommended.\n",
      "140/140 [==============================] - 26s 186ms/step\n",
      "WARNING:tensorflow:multiprocessing can interact badly with TensorFlow, causing nondeterministic deadlocks. For high performance data pipelines tf.data is recommended.\n",
      "140/140 [==============================] - 31s 225ms/step\n"
     ]
    }
   ],
   "source": [
    "# CNN model\n",
    "cnn6m = load_model('models/6m TS/CNN.hdf5',\n",
    "                    custom_objects={'f1': f1})\n",
    "yt_pred = cnn6m.predict_generator(test_generator,\n",
    "                                  workers=4,\n",
    "                                  use_multiprocessing=True,\n",
    "                                  verbose=1)\n",
    "thresh = 0.5\n",
    "yt_pred_bin = np.where(yt_pred > thresh, 1, 0)\n",
    "deep_preds_6['CNN'] = {\n",
    "        'pred': yt_pred_bin,\n",
    "        'pred_proba': yt_pred\n",
    "    }\n",
    "del cnn6m\n",
    "\n",
    "# LSTM model\n",
    "lstm6m = load_model('models/6m TS/BLSTM.hdf5',\n",
    "                    custom_objects={'f1': f1})\n",
    "yt_pred = lstm6m.predict_generator(test_generator,\n",
    "                                  workers=4,\n",
    "                                  use_multiprocessing=True,\n",
    "                                  verbose=1)\n",
    "thresh = 0.5\n",
    "yt_pred_bin = np.where(yt_pred > thresh, 1, 0)\n",
    "deep_preds_6['BLSTM'] = {\n",
    "        'pred': yt_pred_bin,\n",
    "        'pred_proba': yt_pred\n",
    "    }\n",
    "del lstm6m"
   ]
  },
  {
   "cell_type": "code",
   "execution_count": 25,
   "metadata": {
    "ExecuteTime": {
     "end_time": "2021-03-20T13:33:05.289285Z",
     "start_time": "2021-03-20T13:33:05.196297Z"
    }
   },
   "outputs": [
    {
     "data": {
      "text/plain": [
       "['deep_predictions_6m.joblib']"
      ]
     },
     "execution_count": 25,
     "metadata": {},
     "output_type": "execute_result"
    }
   ],
   "source": [
    "dump(deep_preds_6, 'deep_predictions_6m.joblib')"
   ]
  },
  {
   "cell_type": "markdown",
   "metadata": {},
   "source": [
    "### Semi-temporal methods"
   ]
  },
  {
   "cell_type": "markdown",
   "metadata": {},
   "source": [
    "Load the saved models"
   ]
  },
  {
   "cell_type": "code",
   "execution_count": 26,
   "metadata": {
    "ExecuteTime": {
     "end_time": "2021-03-20T13:33:07.574888Z",
     "start_time": "2021-03-20T13:33:05.291831Z"
    }
   },
   "outputs": [
    {
     "name": "stderr",
     "output_type": "stream",
     "text": [
      "/home/surya/miniconda3/envs/ml/lib/python3.7/site-packages/sklearn/base.py:334: UserWarning: Trying to unpickle estimator LabelEncoder from version 0.22.2.post1 when using version 0.23.2. This might lead to breaking code or invalid results. Use at your own risk.\n",
      "  UserWarning)\n",
      "/home/surya/miniconda3/envs/ml/lib/python3.7/site-packages/sklearn/base.py:334: UserWarning: Trying to unpickle estimator DecisionTreeClassifier from version 0.22.2.post1 when using version 0.23.2. This might lead to breaking code or invalid results. Use at your own risk.\n",
      "  UserWarning)\n",
      "/home/surya/miniconda3/envs/ml/lib/python3.7/site-packages/sklearn/base.py:334: UserWarning: Trying to unpickle estimator RandomForestClassifier from version 0.22.2.post1 when using version 0.23.2. This might lead to breaking code or invalid results. Use at your own risk.\n",
      "  UserWarning)\n",
      "/home/surya/miniconda3/envs/ml/lib/python3.7/site-packages/sklearn/base.py:334: UserWarning: Trying to unpickle estimator LogisticRegression from version 0.22.2.post1 when using version 0.23.2. This might lead to breaking code or invalid results. Use at your own risk.\n",
      "  UserWarning)\n"
     ]
    }
   ],
   "source": [
    "models6_path = 'models/6m ST/'\n",
    "\n",
    "models_6 = {\n",
    "    'temp-lightgbm': load(models6_path + '6m_ST_LGBMClassifier.joblib'),\n",
    "    'temp-decisiontree': load(models6_path + '6m_ST_DecisionTreeClassifier.joblib'),\n",
    "    'temp-randomforest': load(models6_path + '6m_ST_RandomForestClassifier.joblib'),\n",
    "    'temp-logistic': load(models6_path + '6m_ST_LogisticRegression.joblib')\n",
    "}\n"
   ]
  },
  {
   "cell_type": "markdown",
   "metadata": {},
   "source": [
    "Apply the pre-processing"
   ]
  },
  {
   "cell_type": "code",
   "execution_count": 27,
   "metadata": {
    "ExecuteTime": {
     "end_time": "2021-03-20T13:33:11.819455Z",
     "start_time": "2021-03-20T13:33:07.580195Z"
    }
   },
   "outputs": [],
   "source": [
    "data = data.set_index('id')\n",
    "# encode sex\n",
    "data.loc[data['sex'] == 'M', 'sex'] = 1\n",
    "data.loc[data['sex'] == 'F', 'sex'] = 0\n",
    "\n",
    "feat_mask_file = 'data/6 month/6m_top_100_features_mask.joblib'\n",
    "features_mask = joblib.load(feat_mask_file)\n",
    "\n",
    "def preproc(X):\n",
    "    if X.shape[-1] < 965:\n",
    "        X = np.delete(X, [276], axis=-1)  # id col in drug\n",
    "        X = X[:,features_mask[965:]]\n",
    "    else:\n",
    "        X = X[:,features_mask[:965]]\n",
    "\n",
    "    return X\n",
    "\n",
    "def group_sum(arr):\n",
    "    return np.add.reduceat(arr, indices=np.arange(2, 24, 3), axis=0)\n",
    "\n",
    "def get_array(arr):\n",
    "    # get sparse array as input and return preprocessed numpy array\n",
    "    return group_sum(preproc(arr.toarray())).ravel()\n",
    "    \n",
    "def stack_arrays(list_ids):\n",
    "    \"\"\"\n",
    "    Takes a list of ids and returns a numpy array with input values \n",
    "    and the target variable in an array\n",
    "    \"\"\"\n",
    "    diag_arr = np.vstack([get_array(diag[id]) for id in list_ids])\n",
    "    drug_arr = np.vstack([get_array(drug[id]) for id in list_ids])\n",
    "    age_sex = data.loc[list_ids, ['age', 'sex']].values\n",
    "    X = np.hstack([diag_arr, drug_arr, age_sex])\n",
    "\n",
    "    y = data.loc[list_ids, 'label'].values\n",
    "    return X, y\n",
    "    \n",
    "# X_train, y_train = stack_arrays(train_ids)  # we dont need to train\n",
    "X_test, y_test = stack_arrays(test_ids)"
   ]
  },
  {
   "cell_type": "markdown",
   "metadata": {},
   "source": [
    "Get predictions for each model"
   ]
  },
  {
   "cell_type": "code",
   "execution_count": 28,
   "metadata": {
    "ExecuteTime": {
     "end_time": "2021-03-20T13:33:18.179168Z",
     "start_time": "2021-03-20T13:33:11.821380Z"
    }
   },
   "outputs": [
    {
     "name": "stderr",
     "output_type": "stream",
     "text": [
      "100%|██████████| 4/4 [00:06<00:00,  1.59s/it]\n"
     ]
    }
   ],
   "source": [
    "st_preds_6 = {\n",
    "    'y': y_test\n",
    "}\n",
    "\n",
    "for algoname, model in tqdm(models_6.items()):\n",
    "    y_pred = model.predict(X_test)\n",
    "    y_pred_proba = model.predict_proba(X_test)[:,1]\n",
    "    \n",
    "    st_preds_6[algoname] = {\n",
    "        'pred': y_pred,\n",
    "        'pred_proba': y_pred_proba\n",
    "    }"
   ]
  },
  {
   "cell_type": "markdown",
   "metadata": {},
   "source": [
    "Cleanup"
   ]
  },
  {
   "cell_type": "code",
   "execution_count": 29,
   "metadata": {
    "ExecuteTime": {
     "end_time": "2021-03-20T13:33:18.660629Z",
     "start_time": "2021-03-20T13:33:18.182578Z"
    }
   },
   "outputs": [],
   "source": [
    "del X_test, y_test, diag, drug"
   ]
  },
  {
   "cell_type": "markdown",
   "metadata": {},
   "source": [
    "Save to the predictions file"
   ]
  },
  {
   "cell_type": "code",
   "execution_count": 30,
   "metadata": {
    "ExecuteTime": {
     "end_time": "2021-03-20T13:33:18.781862Z",
     "start_time": "2021-03-20T13:33:18.683166Z"
    }
   },
   "outputs": [
    {
     "data": {
      "text/plain": [
       "['st_predictions_6m.joblib']"
      ]
     },
     "execution_count": 30,
     "metadata": {},
     "output_type": "execute_result"
    }
   ],
   "source": [
    "dump(st_preds_6, 'st_predictions_6m.joblib')"
   ]
  },
  {
   "cell_type": "markdown",
   "metadata": {},
   "source": [
    "## 12 months"
   ]
  },
  {
   "cell_type": "markdown",
   "metadata": {},
   "source": [
    "### Deep learning models"
   ]
  },
  {
   "cell_type": "code",
   "execution_count": 31,
   "metadata": {
    "ExecuteTime": {
     "end_time": "2021-03-20T13:33:29.380333Z",
     "start_time": "2021-03-20T13:33:18.783897Z"
    }
   },
   "outputs": [
    {
     "name": "stderr",
     "output_type": "stream",
     "text": [
      "Loading sparse dataset: 100%|██████████| 17856/17856 [00:00<00:00, 617418.59it/s]\n"
     ]
    }
   ],
   "source": [
    "with open('data/12 month/diag_dict.pkl', 'rb') as f:\n",
    "  diag = pickle.load(f)\n",
    "  diag_ids = list(diag.keys())\n",
    "\n",
    "with open('data/12 month/drug_dict.pkl', 'rb') as f:\n",
    "  drug = pickle.load(f)\n",
    "  drug_ids = list(drug.keys())\n",
    "    \n",
    "# get list of ids to use\n",
    "data_dir = \"data/\"\n",
    "\n",
    "case = pd.read_feather(data_dir + '/case_age_sex.feather')\n",
    "control = pd.read_feather(data_dir + '/control_age_sex.feather')\n",
    "\n",
    "# remove age outliers\n",
    "case = case.loc[case['age'] < 100]\n",
    "control = control.loc[control['age'] < 100]\n",
    "\n",
    "case['label'] = 1\n",
    "control['label'] = 0\n",
    "data = pd.concat([case, control])\n",
    "data = data[data['sex'] != 'U']\n",
    "\n",
    "info_ids = set(case.id).union(set(control.id))\n",
    "list_ids = sorted(list(set(diag_ids) & set(drug_ids) & set(info_ids)))\n",
    "data = data.loc[data['id'].isin(list_ids)]\n",
    "\n",
    "# train test split\n",
    "train_ids, test_ids = train_test_split(data[['id', 'label']],\n",
    "                                       test_size=0.2,\n",
    "                                       shuffle=True,\n",
    "                                       stratify=data['label'],\n",
    "                                       random_state=SEED)\n",
    "train_ids, val_ids = train_test_split(train_ids,\n",
    "                                       test_size=0.2,\n",
    "                                       shuffle=True,\n",
    "                                       stratify=train_ids['label'],\n",
    "                                       random_state=SEED)\n",
    "\n",
    "train_ids = train_ids['id'].tolist()\n",
    "val_ids = val_ids['id'].tolist()\n",
    "test_ids = test_ids['id'].tolist()\n",
    "\n",
    "\n",
    "def preproc(X, X_, y):    \n",
    "    \n",
    "    if X.shape[-1] > 965:\n",
    "        X = np.delete(X, [[16, 470, 1063, 1231, 1245]], axis=-1)  # extra & id col in drug\n",
    "        \n",
    "    return X, X_, y\n",
    "\n",
    "test_generator = DataLoader(test_ids,\n",
    "                            data_dir,\n",
    "                            '12 month',\n",
    "                            batch_size=128,\n",
    "                            include_drug=True,\n",
    "                            shuffle=False,\n",
    "                            preprocess_func=preproc)\n",
    "Y_test = test_generator.get_labels()\n",
    "\n",
    "deep_preds_12 = {\n",
    "    'y': Y_test\n",
    "}"
   ]
  },
  {
   "cell_type": "code",
   "execution_count": 32,
   "metadata": {
    "ExecuteTime": {
     "end_time": "2021-03-20T13:34:31.120162Z",
     "start_time": "2021-03-20T13:33:29.382165Z"
    }
   },
   "outputs": [
    {
     "name": "stdout",
     "output_type": "stream",
     "text": [
      "WARNING:tensorflow:multiprocessing can interact badly with TensorFlow, causing nondeterministic deadlocks. For high performance data pipelines tf.data is recommended.\n",
      "139/139 [==============================] - 26s 189ms/step\n",
      "WARNING:tensorflow:multiprocessing can interact badly with TensorFlow, causing nondeterministic deadlocks. For high performance data pipelines tf.data is recommended.\n",
      "139/139 [==============================] - 30s 216ms/step\n"
     ]
    }
   ],
   "source": [
    "# CNN model\n",
    "cnn12m = load_model('models/12m TS/CNN.hdf5',\n",
    "                    custom_objects={'f1': f1})\n",
    "yt_pred = cnn12m.predict_generator(test_generator,\n",
    "                                  workers=4,\n",
    "                                  use_multiprocessing=True,\n",
    "                                  verbose=1)\n",
    "thresh = 0.5\n",
    "yt_pred_bin = np.where(yt_pred > thresh, 1, 0)\n",
    "deep_preds_12['CNN'] = {\n",
    "        'pred': yt_pred_bin,\n",
    "        'pred_proba': yt_pred\n",
    "    }\n",
    "del cnn12m\n",
    "\n",
    "# LSTM model\n",
    "lstm12m = load_model('models/12m TS/BLSTM.hdf5',\n",
    "                    custom_objects={'f1': f1})\n",
    "yt_pred = lstm12m.predict_generator(test_generator,\n",
    "                                  workers=4,\n",
    "                                  use_multiprocessing=True,\n",
    "                                  verbose=1)\n",
    "thresh = 0.5\n",
    "yt_pred_bin = np.where(yt_pred > thresh, 1, 0)\n",
    "deep_preds_12['BLSTM'] = {\n",
    "        'pred': yt_pred_bin,\n",
    "        'pred_proba': yt_pred\n",
    "    }\n",
    "del lstm12m"
   ]
  },
  {
   "cell_type": "code",
   "execution_count": 33,
   "metadata": {
    "ExecuteTime": {
     "end_time": "2021-03-20T13:34:31.395933Z",
     "start_time": "2021-03-20T13:34:31.123014Z"
    }
   },
   "outputs": [
    {
     "data": {
      "text/plain": [
       "['deep_predictions_12m.joblib']"
      ]
     },
     "execution_count": 33,
     "metadata": {},
     "output_type": "execute_result"
    }
   ],
   "source": [
    "dump(deep_preds_12, 'deep_predictions_12m.joblib')"
   ]
  },
  {
   "cell_type": "markdown",
   "metadata": {},
   "source": [
    "### Semi-temporal methods"
   ]
  },
  {
   "cell_type": "code",
   "execution_count": 34,
   "metadata": {
    "ExecuteTime": {
     "end_time": "2021-03-20T13:34:32.908063Z",
     "start_time": "2021-03-20T13:34:31.402107Z"
    }
   },
   "outputs": [
    {
     "name": "stderr",
     "output_type": "stream",
     "text": [
      "/home/surya/miniconda3/envs/ml/lib/python3.7/site-packages/sklearn/base.py:334: UserWarning: Trying to unpickle estimator LabelEncoder from version 0.22.2.post1 when using version 0.23.2. This might lead to breaking code or invalid results. Use at your own risk.\n",
      "  UserWarning)\n",
      "/home/surya/miniconda3/envs/ml/lib/python3.7/site-packages/sklearn/base.py:334: UserWarning: Trying to unpickle estimator DecisionTreeClassifier from version 0.22.2.post1 when using version 0.23.2. This might lead to breaking code or invalid results. Use at your own risk.\n",
      "  UserWarning)\n",
      "/home/surya/miniconda3/envs/ml/lib/python3.7/site-packages/sklearn/base.py:334: UserWarning: Trying to unpickle estimator RandomForestClassifier from version 0.22.2.post1 when using version 0.23.2. This might lead to breaking code or invalid results. Use at your own risk.\n",
      "  UserWarning)\n",
      "/home/surya/miniconda3/envs/ml/lib/python3.7/site-packages/sklearn/base.py:334: UserWarning: Trying to unpickle estimator LogisticRegression from version 0.22.2.post1 when using version 0.23.2. This might lead to breaking code or invalid results. Use at your own risk.\n",
      "  UserWarning)\n"
     ]
    }
   ],
   "source": [
    "models12_path = 'models/12m ST/'\n",
    "\n",
    "models_12 = {\n",
    "    'temp-lightgbm': load(models12_path + '12m_ST_LGBMClassifier.joblib'),\n",
    "    'temp-decisiontree': load(models12_path + '12m_ST_DecisionTreeClassifier.joblib'),\n",
    "    'temp-randomforest': load(models12_path + '12m_ST_RandomForestClassifier.joblib'),\n",
    "    'temp-logistic': load(models12_path + '12m_ST_LogisticRegression.joblib')\n",
    "}\n"
   ]
  },
  {
   "cell_type": "markdown",
   "metadata": {},
   "source": [
    "Apply the preprocessing"
   ]
  },
  {
   "cell_type": "code",
   "execution_count": 35,
   "metadata": {
    "ExecuteTime": {
     "end_time": "2021-03-20T13:34:39.081606Z",
     "start_time": "2021-03-20T13:34:32.915306Z"
    }
   },
   "outputs": [],
   "source": [
    "data = data.set_index('id')\n",
    "# encode sex\n",
    "data.loc[data['sex'] == 'M', 'sex'] = 1\n",
    "data.loc[data['sex'] == 'F', 'sex'] = 0\n",
    "\n",
    "feat_mask_file = 'data/12 month/12m_top_100_features_mask.joblib'\n",
    "features_mask = joblib.load(feat_mask_file)\n",
    "\n",
    "def preproc(X):\n",
    "    if X.shape[-1] < 965:\n",
    "        X = np.delete(X, [[1063-965, 1231-965, 1245-965]], axis=-1)  # extra & id col in drug\n",
    "        X = X[:,features_mask[965:]]\n",
    "    else:\n",
    "        X = np.delete(X, [[16, 470]], axis=-1)  # extra & id col in drug\n",
    "        X = X[:,features_mask[:965]]\n",
    "\n",
    "    return X\n",
    "\n",
    "def group_sum(arr):\n",
    "    return np.add.reduceat(arr, indices=np.arange(2, 24, 3), axis=0)\n",
    "\n",
    "def get_array(arr):\n",
    "    # get sparse array as input and return preprocessed numpy array\n",
    "    return group_sum(preproc(arr.toarray())).ravel()\n",
    "    \n",
    "def stack_arrays(list_ids):\n",
    "    \"\"\"\n",
    "    Takes a list of ids and returns a numpy array with input values \n",
    "    and the target variable in an array\n",
    "    \"\"\"\n",
    "    diag_arr = np.vstack([get_array(diag[id]) for id in list_ids])\n",
    "    drug_arr = np.vstack([get_array(drug[id]) for id in list_ids])\n",
    "    age_sex = data.loc[list_ids, ['age', 'sex']].values\n",
    "    X = np.hstack([diag_arr, drug_arr, age_sex])\n",
    "\n",
    "    y = data.loc[list_ids, 'label'].values\n",
    "    return X, y\n",
    "    \n",
    "    \n",
    "X_test, y_test = stack_arrays(test_ids)"
   ]
  },
  {
   "cell_type": "markdown",
   "metadata": {},
   "source": [
    "Get predictions for each model"
   ]
  },
  {
   "cell_type": "code",
   "execution_count": 36,
   "metadata": {
    "ExecuteTime": {
     "end_time": "2021-03-20T13:34:45.628253Z",
     "start_time": "2021-03-20T13:34:39.084274Z"
    }
   },
   "outputs": [
    {
     "name": "stderr",
     "output_type": "stream",
     "text": [
      " 50%|█████     | 2/4 [00:02<00:01,  1.04it/s][Parallel(n_jobs=4)]: Using backend ThreadingBackend with 4 concurrent workers.\n",
      "[Parallel(n_jobs=4)]: Done  42 tasks      | elapsed:    0.1s\n",
      "[Parallel(n_jobs=4)]: Done 192 tasks      | elapsed:    0.4s\n",
      "[Parallel(n_jobs=4)]: Done 442 tasks      | elapsed:    0.9s\n",
      "[Parallel(n_jobs=4)]: Done 792 tasks      | elapsed:    1.5s\n",
      "[Parallel(n_jobs=4)]: Done 800 out of 800 | elapsed:    1.6s finished\n",
      "[Parallel(n_jobs=4)]: Using backend ThreadingBackend with 4 concurrent workers.\n",
      "[Parallel(n_jobs=4)]: Done  42 tasks      | elapsed:    0.1s\n",
      "[Parallel(n_jobs=4)]: Done 192 tasks      | elapsed:    0.4s\n",
      "[Parallel(n_jobs=4)]: Done 442 tasks      | elapsed:    0.9s\n",
      "[Parallel(n_jobs=4)]: Done 792 tasks      | elapsed:    1.6s\n",
      "[Parallel(n_jobs=4)]: Done 800 out of 800 | elapsed:    1.6s finished\n",
      "100%|██████████| 4/4 [00:06<00:00,  1.63s/it]\n"
     ]
    }
   ],
   "source": [
    "st_preds_12 = {\n",
    "    'y': y_test\n",
    "}\n",
    "\n",
    "for algoname, model in tqdm(models_12.items()):\n",
    "    y_pred = model.predict(X_test)\n",
    "    y_pred_proba = model.predict_proba(X_test)[:,1]\n",
    "    \n",
    "    st_preds_12[algoname] = {\n",
    "        'pred': y_pred,\n",
    "        'pred_proba': y_pred_proba\n",
    "    }"
   ]
  },
  {
   "cell_type": "markdown",
   "metadata": {},
   "source": [
    "Cleanup"
   ]
  },
  {
   "cell_type": "code",
   "execution_count": 37,
   "metadata": {
    "ExecuteTime": {
     "end_time": "2021-03-20T13:34:46.133080Z",
     "start_time": "2021-03-20T13:34:45.631341Z"
    }
   },
   "outputs": [],
   "source": [
    "del X_test, y_test, diag, drug"
   ]
  },
  {
   "cell_type": "markdown",
   "metadata": {},
   "source": [
    "Save predictions"
   ]
  },
  {
   "cell_type": "code",
   "execution_count": 38,
   "metadata": {
    "ExecuteTime": {
     "end_time": "2021-03-20T13:34:46.292694Z",
     "start_time": "2021-03-20T13:34:46.136538Z"
    }
   },
   "outputs": [
    {
     "data": {
      "text/plain": [
       "['st_predictions_12m.joblib']"
      ]
     },
     "execution_count": 38,
     "metadata": {},
     "output_type": "execute_result"
    }
   ],
   "source": [
    "dump(st_preds_12, 'st_predictions_12m.joblib')"
   ]
  },
  {
   "cell_type": "markdown",
   "metadata": {},
   "source": [
    "# Group results together\n",
    "\n",
    "Results for semi-temporal models are not available here."
   ]
  },
  {
   "cell_type": "code",
   "execution_count": 5,
   "metadata": {
    "ExecuteTime": {
     "end_time": "2021-03-20T13:34:46.617113Z",
     "start_time": "2021-03-20T13:34:46.562683Z"
    }
   },
   "outputs": [],
   "source": [
    "prediction_dir = 'predictions/'\n",
    "preds_6 = load(prediction_dir + 'predictions_6m.joblib')\n",
    "preds_12 = load(prediction_dir + 'predictions_12m.joblib')\n",
    "\n",
    "st_preds_6 = load(prediction_dir + 'st_predictions_6m.joblib')\n",
    "st_preds_12 = load(prediction_dir + 'st_predictions_12m.joblib')\n",
    "\n",
    "deep_preds_6 = load(prediction_dir + 'deep_predictions_6m.joblib')\n",
    "deep_preds_12 = load(prediction_dir + 'deep_predictions_12m.joblib')"
   ]
  },
  {
   "cell_type": "markdown",
   "metadata": {},
   "source": [
    "### Identify probability thresholds for all the algorithms\n",
    "\n",
    "Identify the threshold and update the predictions based on it."
   ]
  },
  {
   "cell_type": "code",
   "execution_count": 6,
   "metadata": {
    "ExecuteTime": {
     "end_time": "2021-03-20T13:34:46.873023Z",
     "start_time": "2021-03-20T13:34:46.618773Z"
    }
   },
   "outputs": [],
   "source": [
    "def youden_index(y, pred_proba):\n",
    "    fpr, tpr, thresh = roc_curve(y, pred_proba)\n",
    "    optimal_idx = np.argmax(tpr - fpr)\n",
    "    optimal_threshold = thresh[optimal_idx]\n",
    "    return optimal_threshold\n",
    "\n",
    "# aggregated \n",
    "\n",
    "for algo, preds in preds_6.items():\n",
    "    if algo == 'y':\n",
    "        continue\n",
    "    threshold = youden_index(preds_6['y'], preds['pred_proba'])\n",
    "    preds['threshold'] = threshold\n",
    "    preds['pred'] = preds['pred_proba'] >= threshold\n",
    "\n",
    "for algo, preds in preds_12.items():\n",
    "    if algo == 'y':\n",
    "        continue\n",
    "    threshold = youden_index(preds_12['y'], preds['pred_proba'])\n",
    "    preds['threshold'] = threshold\n",
    "    preds['pred'] = preds['pred_proba'] >= threshold\n",
    "    \n",
    "# deep learning\n",
    "    \n",
    "for algo, preds in deep_preds_6.items():\n",
    "    if algo == 'y':\n",
    "        continue\n",
    "    threshold = youden_index(deep_preds_6['y'], preds['pred_proba'])\n",
    "    preds['threshold'] = threshold\n",
    "    preds['pred'] = preds['pred_proba'] >= threshold\n",
    "\n",
    "for algo, preds in deep_preds_12.items():\n",
    "    if algo == 'y':\n",
    "        continue\n",
    "    threshold = youden_index(deep_preds_12['y'], preds['pred_proba'])\n",
    "    preds['threshold'] = threshold\n",
    "    preds['pred'] = preds['pred_proba'] >= threshold\n",
    "    \n",
    "# semi-temporal\n",
    "    \n",
    "for algo, preds in st_preds_6.items():\n",
    "    if algo == 'y':\n",
    "        continue\n",
    "    threshold = youden_index(st_preds_6['y'], preds['pred_proba'])\n",
    "    preds['threshold'] = threshold\n",
    "    preds['pred'] = preds['pred_proba'] >= threshold\n",
    "\n",
    "for algo, preds in st_preds_12.items():\n",
    "    if algo == 'y':\n",
    "        continue\n",
    "    threshold = youden_index(st_preds_12['y'], preds['pred_proba'])\n",
    "    preds['threshold'] = threshold\n",
    "    preds['pred'] = preds['pred_proba'] >= threshold"
   ]
  },
  {
   "cell_type": "markdown",
   "metadata": {},
   "source": [
    "### Get different metrics"
   ]
  },
  {
   "cell_type": "code",
   "execution_count": 7,
   "metadata": {
    "ExecuteTime": {
     "end_time": "2021-03-20T13:34:46.877970Z",
     "start_time": "2021-03-20T13:34:46.874806Z"
    }
   },
   "outputs": [],
   "source": [
    "def specificity(y_truth, y_pred):\n",
    "    tn, fp, fn, tp = confusion_matrix(y_truth, y_pred).ravel()\n",
    "    \n",
    "    specificity = tn / (tn+fp)\n",
    "    return specificity"
   ]
  },
  {
   "cell_type": "code",
   "execution_count": 8,
   "metadata": {
    "ExecuteTime": {
     "end_time": "2021-03-20T13:34:46.956762Z",
     "start_time": "2021-03-20T13:34:46.879780Z"
    }
   },
   "outputs": [
    {
     "data": {
      "text/plain": [
       "(17920, 17920)"
      ]
     },
     "execution_count": 8,
     "metadata": {},
     "output_type": "execute_result"
    }
   ],
   "source": [
    "len(deep_preds_6['y']), len(deep_preds_6['CNN']['pred'])"
   ]
  },
  {
   "cell_type": "code",
   "execution_count": 9,
   "metadata": {
    "ExecuteTime": {
     "end_time": "2021-03-20T13:34:48.728059Z",
     "start_time": "2021-03-20T13:34:46.959120Z"
    }
   },
   "outputs": [],
   "source": [
    "metrics_6_list = []\n",
    "# ml models\n",
    "y_truth = preds_6['y']\n",
    "for algo, preds in preds_6.items():\n",
    "    if algo == 'y':\n",
    "        continue\n",
    "        \n",
    "    y_pred = preds['pred']\n",
    "    y_pred_proba = preds['pred_proba']\n",
    "    \n",
    "    acc = accuracy_score(y_truth, y_pred)\n",
    "    f1 = f1_score(y_truth, y_pred)\n",
    "    prec = precision_score(y_truth, y_pred)\n",
    "    rec = recall_score(y_truth, y_pred)\n",
    "    spec = specificity(y_truth, y_pred)\n",
    "    roc = roc_auc_score(y_truth, y_pred_proba)\n",
    "    \n",
    "    row = [algo, acc, f1, prec, rec, spec, roc]\n",
    "    metrics_6_list.append(row)\n",
    "    \n",
    "# semi-temporal models\n",
    "y_truth = st_preds_6['y']\n",
    "for algo, preds in st_preds_6.items():\n",
    "    if algo == 'y':\n",
    "        continue\n",
    "        \n",
    "    y_pred = preds['pred']\n",
    "    y_pred_proba = preds['pred_proba']\n",
    "    \n",
    "    acc = accuracy_score(y_truth, y_pred)\n",
    "    f1 = f1_score(y_truth, y_pred)\n",
    "    prec = precision_score(y_truth, y_pred)\n",
    "    rec = recall_score(y_truth, y_pred)\n",
    "    spec = specificity(y_truth, y_pred)\n",
    "    roc = roc_auc_score(y_truth, y_pred_proba)\n",
    "    \n",
    "    row = [algo, acc, f1, prec, rec, spec, roc]\n",
    "    metrics_6_list.append(row)\n",
    "    \n",
    "# dl model\n",
    "y_truth = deep_preds_6['y']\n",
    "for algo, preds in deep_preds_6.items():\n",
    "    if algo == 'y':\n",
    "        continue\n",
    "        \n",
    "    y_pred = preds['pred']\n",
    "    y_pred_proba = preds['pred_proba']\n",
    "    \n",
    "    acc = accuracy_score(y_truth, y_pred)\n",
    "    f1 = f1_score(y_truth, y_pred)\n",
    "    prec = precision_score(y_truth, y_pred)\n",
    "    rec = recall_score(y_truth, y_pred)\n",
    "    spec = specificity(y_truth, y_pred)\n",
    "    roc = roc_auc_score(y_truth, y_pred_proba)\n",
    "    \n",
    "    row = [algo, acc, f1, prec, rec, spec, roc]\n",
    "    metrics_6_list.append(row)\n",
    "\n",
    "# ml models\n",
    "metrics_12_list = []\n",
    "y_truth = preds_12['y']\n",
    "for algo, preds in preds_12.items():\n",
    "    if algo == 'y':\n",
    "        continue\n",
    "        \n",
    "    y_pred = preds['pred']\n",
    "    y_pred_proba = preds['pred_proba']\n",
    "    \n",
    "    acc = accuracy_score(y_truth, y_pred)\n",
    "    f1 = f1_score(y_truth, y_pred)\n",
    "    prec = precision_score(y_truth, y_pred)\n",
    "    rec = recall_score(y_truth, y_pred)\n",
    "    spec = specificity(y_truth, y_pred)\n",
    "    roc = roc_auc_score(y_truth, y_pred_proba)\n",
    "    \n",
    "    row = [algo, acc, f1, prec, rec, spec, roc]\n",
    "    metrics_12_list.append(row)\n",
    "    \n",
    "# semi-temporal models\n",
    "y_truth = st_preds_12['y']\n",
    "for algo, preds in st_preds_12.items():\n",
    "    if algo == 'y':\n",
    "        continue\n",
    "        \n",
    "    y_pred = preds['pred']\n",
    "    y_pred_proba = preds['pred_proba']\n",
    "    \n",
    "    acc = accuracy_score(y_truth, y_pred)\n",
    "    f1 = f1_score(y_truth, y_pred)\n",
    "    prec = precision_score(y_truth, y_pred)\n",
    "    rec = recall_score(y_truth, y_pred)\n",
    "    spec = specificity(y_truth, y_pred)\n",
    "    roc = roc_auc_score(y_truth, y_pred_proba)\n",
    "    \n",
    "    row = [algo, acc, f1, prec, rec, spec, roc]\n",
    "    metrics_12_list.append(row)\n",
    "    \n",
    "# dl model\n",
    "y_truth = deep_preds_12['y']\n",
    "for algo, preds in deep_preds_12.items():\n",
    "    if algo == 'y':\n",
    "        continue\n",
    "        \n",
    "    y_pred = preds['pred']\n",
    "    y_pred_proba = preds['pred_proba']\n",
    "    \n",
    "    acc = accuracy_score(y_truth, y_pred)\n",
    "    f1 = f1_score(y_truth, y_pred)\n",
    "    prec = precision_score(y_truth, y_pred)\n",
    "    rec = recall_score(y_truth, y_pred)\n",
    "    spec = specificity(y_truth, y_pred)\n",
    "    roc = roc_auc_score(y_truth, y_pred_proba)\n",
    "    \n",
    "    row = [algo, acc, f1, prec, rec, spec, roc]\n",
    "    metrics_12_list.append(row)"
   ]
  },
  {
   "cell_type": "code",
   "execution_count": 10,
   "metadata": {
    "ExecuteTime": {
     "end_time": "2021-03-20T13:34:48.778966Z",
     "start_time": "2021-03-20T13:34:48.730035Z"
    }
   },
   "outputs": [],
   "source": [
    "cols = ['Algo', 'Accuracy', 'F1', 'Precision', 'Recall', 'Specificiy', 'ROC_AUC']\n",
    "metrics_6 = pd.DataFrame(metrics_6_list, columns=cols)\n",
    "metrics_12 = pd.DataFrame(metrics_12_list, columns=cols)"
   ]
  },
  {
   "cell_type": "code",
   "execution_count": 11,
   "metadata": {
    "ExecuteTime": {
     "end_time": "2021-03-20T13:34:48.900135Z",
     "start_time": "2021-03-20T13:34:48.784548Z"
    },
    "scrolled": true
   },
   "outputs": [
    {
     "data": {
      "text/html": [
       "<div>\n",
       "<style scoped>\n",
       "    .dataframe tbody tr th:only-of-type {\n",
       "        vertical-align: middle;\n",
       "    }\n",
       "\n",
       "    .dataframe tbody tr th {\n",
       "        vertical-align: top;\n",
       "    }\n",
       "\n",
       "    .dataframe thead th {\n",
       "        text-align: right;\n",
       "    }\n",
       "</style>\n",
       "<table border=\"1\" class=\"dataframe\">\n",
       "  <thead>\n",
       "    <tr style=\"text-align: right;\">\n",
       "      <th></th>\n",
       "      <th>Algo</th>\n",
       "      <th>Accuracy</th>\n",
       "      <th>F1</th>\n",
       "      <th>Precision</th>\n",
       "      <th>Recall</th>\n",
       "      <th>Specificiy</th>\n",
       "      <th>ROC_AUC</th>\n",
       "    </tr>\n",
       "  </thead>\n",
       "  <tbody>\n",
       "    <tr>\n",
       "      <th>0</th>\n",
       "      <td>lightgbm</td>\n",
       "      <td>0.750696</td>\n",
       "      <td>0.525646</td>\n",
       "      <td>0.426263</td>\n",
       "      <td>0.685462</td>\n",
       "      <td>0.767160</td>\n",
       "      <td>0.799362</td>\n",
       "    </tr>\n",
       "    <tr>\n",
       "      <th>1</th>\n",
       "      <td>decisiontree</td>\n",
       "      <td>0.732149</td>\n",
       "      <td>0.483736</td>\n",
       "      <td>0.395471</td>\n",
       "      <td>0.622720</td>\n",
       "      <td>0.759766</td>\n",
       "      <td>0.745434</td>\n",
       "    </tr>\n",
       "    <tr>\n",
       "      <th>2</th>\n",
       "      <td>randomforest</td>\n",
       "      <td>0.725075</td>\n",
       "      <td>0.488709</td>\n",
       "      <td>0.390822</td>\n",
       "      <td>0.652018</td>\n",
       "      <td>0.743513</td>\n",
       "      <td>0.761965</td>\n",
       "    </tr>\n",
       "    <tr>\n",
       "      <th>3</th>\n",
       "      <td>logistic</td>\n",
       "      <td>0.736159</td>\n",
       "      <td>0.503615</td>\n",
       "      <td>0.405570</td>\n",
       "      <td>0.664179</td>\n",
       "      <td>0.754325</td>\n",
       "      <td>0.776090</td>\n",
       "    </tr>\n",
       "    <tr>\n",
       "      <th>4</th>\n",
       "      <td>temp-lightgbm</td>\n",
       "      <td>0.801922</td>\n",
       "      <td>0.588575</td>\n",
       "      <td>0.505251</td>\n",
       "      <td>0.704809</td>\n",
       "      <td>0.826356</td>\n",
       "      <td>0.841834</td>\n",
       "    </tr>\n",
       "    <tr>\n",
       "      <th>5</th>\n",
       "      <td>temp-decisiontree</td>\n",
       "      <td>0.750194</td>\n",
       "      <td>0.471680</td>\n",
       "      <td>0.410262</td>\n",
       "      <td>0.554726</td>\n",
       "      <td>0.799374</td>\n",
       "      <td>0.731573</td>\n",
       "    </tr>\n",
       "    <tr>\n",
       "      <th>6</th>\n",
       "      <td>temp-randomforest</td>\n",
       "      <td>0.737915</td>\n",
       "      <td>0.501005</td>\n",
       "      <td>0.405827</td>\n",
       "      <td>0.654505</td>\n",
       "      <td>0.758901</td>\n",
       "      <td>0.772988</td>\n",
       "    </tr>\n",
       "    <tr>\n",
       "      <th>7</th>\n",
       "      <td>temp-logistic</td>\n",
       "      <td>0.710246</td>\n",
       "      <td>0.475510</td>\n",
       "      <td>0.373755</td>\n",
       "      <td>0.653400</td>\n",
       "      <td>0.724548</td>\n",
       "      <td>0.748220</td>\n",
       "    </tr>\n",
       "    <tr>\n",
       "      <th>8</th>\n",
       "      <td>CNN</td>\n",
       "      <td>0.889732</td>\n",
       "      <td>0.773861</td>\n",
       "      <td>0.657654</td>\n",
       "      <td>0.939950</td>\n",
       "      <td>0.877121</td>\n",
       "      <td>0.956879</td>\n",
       "    </tr>\n",
       "    <tr>\n",
       "      <th>9</th>\n",
       "      <td>BLSTM</td>\n",
       "      <td>0.870926</td>\n",
       "      <td>0.735264</td>\n",
       "      <td>0.624903</td>\n",
       "      <td>0.892966</td>\n",
       "      <td>0.865391</td>\n",
       "      <td>0.939063</td>\n",
       "    </tr>\n",
       "  </tbody>\n",
       "</table>\n",
       "</div>"
      ],
      "text/plain": [
       "                Algo  Accuracy        F1  Precision    Recall  Specificiy  \\\n",
       "0           lightgbm  0.750696  0.525646   0.426263  0.685462    0.767160   \n",
       "1       decisiontree  0.732149  0.483736   0.395471  0.622720    0.759766   \n",
       "2       randomforest  0.725075  0.488709   0.390822  0.652018    0.743513   \n",
       "3           logistic  0.736159  0.503615   0.405570  0.664179    0.754325   \n",
       "4      temp-lightgbm  0.801922  0.588575   0.505251  0.704809    0.826356   \n",
       "5  temp-decisiontree  0.750194  0.471680   0.410262  0.554726    0.799374   \n",
       "6  temp-randomforest  0.737915  0.501005   0.405827  0.654505    0.758901   \n",
       "7      temp-logistic  0.710246  0.475510   0.373755  0.653400    0.724548   \n",
       "8                CNN  0.889732  0.773861   0.657654  0.939950    0.877121   \n",
       "9              BLSTM  0.870926  0.735264   0.624903  0.892966    0.865391   \n",
       "\n",
       "    ROC_AUC  \n",
       "0  0.799362  \n",
       "1  0.745434  \n",
       "2  0.761965  \n",
       "3  0.776090  \n",
       "4  0.841834  \n",
       "5  0.731573  \n",
       "6  0.772988  \n",
       "7  0.748220  \n",
       "8  0.956879  \n",
       "9  0.939063  "
      ]
     },
     "execution_count": 11,
     "metadata": {},
     "output_type": "execute_result"
    }
   ],
   "source": [
    "metrics_6"
   ]
  },
  {
   "cell_type": "code",
   "execution_count": 12,
   "metadata": {
    "ExecuteTime": {
     "end_time": "2021-03-20T13:34:49.153789Z",
     "start_time": "2021-03-20T13:34:48.902171Z"
    },
    "scrolled": true
   },
   "outputs": [
    {
     "data": {
      "text/html": [
       "<div>\n",
       "<style scoped>\n",
       "    .dataframe tbody tr th:only-of-type {\n",
       "        vertical-align: middle;\n",
       "    }\n",
       "\n",
       "    .dataframe tbody tr th {\n",
       "        vertical-align: top;\n",
       "    }\n",
       "\n",
       "    .dataframe thead th {\n",
       "        text-align: right;\n",
       "    }\n",
       "</style>\n",
       "<table border=\"1\" class=\"dataframe\">\n",
       "  <thead>\n",
       "    <tr style=\"text-align: right;\">\n",
       "      <th></th>\n",
       "      <th>Algo</th>\n",
       "      <th>Accuracy</th>\n",
       "      <th>F1</th>\n",
       "      <th>Precision</th>\n",
       "      <th>Recall</th>\n",
       "      <th>Specificiy</th>\n",
       "      <th>ROC_AUC</th>\n",
       "    </tr>\n",
       "  </thead>\n",
       "  <tbody>\n",
       "    <tr>\n",
       "      <th>0</th>\n",
       "      <td>lightgbm</td>\n",
       "      <td>0.759479</td>\n",
       "      <td>0.524222</td>\n",
       "      <td>0.437176</td>\n",
       "      <td>0.654550</td>\n",
       "      <td>0.786112</td>\n",
       "      <td>0.789124</td>\n",
       "    </tr>\n",
       "    <tr>\n",
       "      <th>1</th>\n",
       "      <td>decisiontree</td>\n",
       "      <td>0.735494</td>\n",
       "      <td>0.480530</td>\n",
       "      <td>0.398828</td>\n",
       "      <td>0.604329</td>\n",
       "      <td>0.768787</td>\n",
       "      <td>0.736424</td>\n",
       "    </tr>\n",
       "    <tr>\n",
       "      <th>2</th>\n",
       "      <td>randomforest</td>\n",
       "      <td>0.740886</td>\n",
       "      <td>0.487387</td>\n",
       "      <td>0.406487</td>\n",
       "      <td>0.608491</td>\n",
       "      <td>0.774491</td>\n",
       "      <td>0.755946</td>\n",
       "    </tr>\n",
       "    <tr>\n",
       "      <th>3</th>\n",
       "      <td>logistic</td>\n",
       "      <td>0.722687</td>\n",
       "      <td>0.491083</td>\n",
       "      <td>0.390684</td>\n",
       "      <td>0.660932</td>\n",
       "      <td>0.738362</td>\n",
       "      <td>0.766281</td>\n",
       "    </tr>\n",
       "    <tr>\n",
       "      <th>4</th>\n",
       "      <td>temp-lightgbm</td>\n",
       "      <td>0.786234</td>\n",
       "      <td>0.575653</td>\n",
       "      <td>0.480245</td>\n",
       "      <td>0.718368</td>\n",
       "      <td>0.803396</td>\n",
       "      <td>0.833849</td>\n",
       "    </tr>\n",
       "    <tr>\n",
       "      <th>5</th>\n",
       "      <td>temp-decisiontree</td>\n",
       "      <td>0.745968</td>\n",
       "      <td>0.465473</td>\n",
       "      <td>0.404547</td>\n",
       "      <td>0.548002</td>\n",
       "      <td>0.796029</td>\n",
       "      <td>0.721354</td>\n",
       "    </tr>\n",
       "    <tr>\n",
       "      <th>6</th>\n",
       "      <td>temp-randomforest</td>\n",
       "      <td>0.741879</td>\n",
       "      <td>0.495236</td>\n",
       "      <td>0.409083</td>\n",
       "      <td>0.627358</td>\n",
       "      <td>0.770839</td>\n",
       "      <td>0.758008</td>\n",
       "    </tr>\n",
       "    <tr>\n",
       "      <th>7</th>\n",
       "      <td>temp-logistic</td>\n",
       "      <td>0.741879</td>\n",
       "      <td>0.486233</td>\n",
       "      <td>0.406372</td>\n",
       "      <td>0.605161</td>\n",
       "      <td>0.776452</td>\n",
       "      <td>0.746942</td>\n",
       "    </tr>\n",
       "    <tr>\n",
       "      <th>8</th>\n",
       "      <td>CNN</td>\n",
       "      <td>0.885623</td>\n",
       "      <td>0.767402</td>\n",
       "      <td>0.650960</td>\n",
       "      <td>0.934577</td>\n",
       "      <td>0.873239</td>\n",
       "      <td>0.953813</td>\n",
       "    </tr>\n",
       "    <tr>\n",
       "      <th>9</th>\n",
       "      <td>BLSTM</td>\n",
       "      <td>0.865839</td>\n",
       "      <td>0.731224</td>\n",
       "      <td>0.613916</td>\n",
       "      <td>0.903953</td>\n",
       "      <td>0.856197</td>\n",
       "      <td>0.936200</td>\n",
       "    </tr>\n",
       "  </tbody>\n",
       "</table>\n",
       "</div>"
      ],
      "text/plain": [
       "                Algo  Accuracy        F1  Precision    Recall  Specificiy  \\\n",
       "0           lightgbm  0.759479  0.524222   0.437176  0.654550    0.786112   \n",
       "1       decisiontree  0.735494  0.480530   0.398828  0.604329    0.768787   \n",
       "2       randomforest  0.740886  0.487387   0.406487  0.608491    0.774491   \n",
       "3           logistic  0.722687  0.491083   0.390684  0.660932    0.738362   \n",
       "4      temp-lightgbm  0.786234  0.575653   0.480245  0.718368    0.803396   \n",
       "5  temp-decisiontree  0.745968  0.465473   0.404547  0.548002    0.796029   \n",
       "6  temp-randomforest  0.741879  0.495236   0.409083  0.627358    0.770839   \n",
       "7      temp-logistic  0.741879  0.486233   0.406372  0.605161    0.776452   \n",
       "8                CNN  0.885623  0.767402   0.650960  0.934577    0.873239   \n",
       "9              BLSTM  0.865839  0.731224   0.613916  0.903953    0.856197   \n",
       "\n",
       "    ROC_AUC  \n",
       "0  0.789124  \n",
       "1  0.736424  \n",
       "2  0.755946  \n",
       "3  0.766281  \n",
       "4  0.833849  \n",
       "5  0.721354  \n",
       "6  0.758008  \n",
       "7  0.746942  \n",
       "8  0.953813  \n",
       "9  0.936200  "
      ]
     },
     "execution_count": 12,
     "metadata": {},
     "output_type": "execute_result"
    }
   ],
   "source": [
    "metrics_12"
   ]
  },
  {
   "cell_type": "markdown",
   "metadata": {},
   "source": [
    "The thresholds used"
   ]
  },
  {
   "cell_type": "code",
   "execution_count": 13,
   "metadata": {
    "ExecuteTime": {
     "end_time": "2021-03-20T13:34:49.250589Z",
     "start_time": "2021-03-20T13:34:49.158220Z"
    }
   },
   "outputs": [],
   "source": [
    "def get_threshold_table(preds):\n",
    "    thresh = [[algo, val['threshold']] for algo, val in preds.items() if algo != 'y']\n",
    "    return pd.DataFrame(thresh, columns=['Algo', \"Threshold\"])\n",
    "\n",
    "threshold_6 = pd.concat([get_threshold_table(preds) for preds in [preds_6, st_preds_6, deep_preds_6]])\n",
    "threshold_12 = pd.concat([get_threshold_table(preds) for preds in [preds_12, st_preds_12, deep_preds_12]])"
   ]
  },
  {
   "cell_type": "code",
   "execution_count": 14,
   "metadata": {
    "ExecuteTime": {
     "end_time": "2021-03-20T13:34:49.320062Z",
     "start_time": "2021-03-20T13:34:49.252449Z"
    }
   },
   "outputs": [
    {
     "data": {
      "text/html": [
       "<div>\n",
       "<style scoped>\n",
       "    .dataframe tbody tr th:only-of-type {\n",
       "        vertical-align: middle;\n",
       "    }\n",
       "\n",
       "    .dataframe tbody tr th {\n",
       "        vertical-align: top;\n",
       "    }\n",
       "\n",
       "    .dataframe thead th {\n",
       "        text-align: right;\n",
       "    }\n",
       "</style>\n",
       "<table border=\"1\" class=\"dataframe\">\n",
       "  <thead>\n",
       "    <tr style=\"text-align: right;\">\n",
       "      <th></th>\n",
       "      <th>Algo</th>\n",
       "      <th>Threshold</th>\n",
       "    </tr>\n",
       "  </thead>\n",
       "  <tbody>\n",
       "    <tr>\n",
       "      <th>0</th>\n",
       "      <td>lightgbm</td>\n",
       "      <td>0.48435</td>\n",
       "    </tr>\n",
       "    <tr>\n",
       "      <th>1</th>\n",
       "      <td>decisiontree</td>\n",
       "      <td>0.46346</td>\n",
       "    </tr>\n",
       "    <tr>\n",
       "      <th>2</th>\n",
       "      <td>randomforest</td>\n",
       "      <td>0.43683</td>\n",
       "    </tr>\n",
       "    <tr>\n",
       "      <th>3</th>\n",
       "      <td>logistic</td>\n",
       "      <td>0.49003</td>\n",
       "    </tr>\n",
       "    <tr>\n",
       "      <th>0</th>\n",
       "      <td>temp-lightgbm</td>\n",
       "      <td>0.43639</td>\n",
       "    </tr>\n",
       "    <tr>\n",
       "      <th>1</th>\n",
       "      <td>temp-decisiontree</td>\n",
       "      <td>0.48485</td>\n",
       "    </tr>\n",
       "    <tr>\n",
       "      <th>2</th>\n",
       "      <td>temp-randomforest</td>\n",
       "      <td>0.43632</td>\n",
       "    </tr>\n",
       "    <tr>\n",
       "      <th>3</th>\n",
       "      <td>temp-logistic</td>\n",
       "      <td>0.18471</td>\n",
       "    </tr>\n",
       "    <tr>\n",
       "      <th>0</th>\n",
       "      <td>CNN</td>\n",
       "      <td>0.37200</td>\n",
       "    </tr>\n",
       "    <tr>\n",
       "      <th>1</th>\n",
       "      <td>BLSTM</td>\n",
       "      <td>0.48073</td>\n",
       "    </tr>\n",
       "  </tbody>\n",
       "</table>\n",
       "</div>"
      ],
      "text/plain": [
       "                Algo  Threshold\n",
       "0           lightgbm    0.48435\n",
       "1       decisiontree    0.46346\n",
       "2       randomforest    0.43683\n",
       "3           logistic    0.49003\n",
       "0      temp-lightgbm    0.43639\n",
       "1  temp-decisiontree    0.48485\n",
       "2  temp-randomforest    0.43632\n",
       "3      temp-logistic    0.18471\n",
       "0                CNN    0.37200\n",
       "1              BLSTM    0.48073"
      ]
     },
     "execution_count": 14,
     "metadata": {},
     "output_type": "execute_result"
    }
   ],
   "source": [
    "pd.set_option('display.float_format', lambda x: '%.5f' % x)\n",
    "threshold_6"
   ]
  },
  {
   "cell_type": "code",
   "execution_count": 15,
   "metadata": {
    "ExecuteTime": {
     "end_time": "2021-03-20T13:34:49.382768Z",
     "start_time": "2021-03-20T13:34:49.322081Z"
    }
   },
   "outputs": [
    {
     "data": {
      "text/html": [
       "<div>\n",
       "<style scoped>\n",
       "    .dataframe tbody tr th:only-of-type {\n",
       "        vertical-align: middle;\n",
       "    }\n",
       "\n",
       "    .dataframe tbody tr th {\n",
       "        vertical-align: top;\n",
       "    }\n",
       "\n",
       "    .dataframe thead th {\n",
       "        text-align: right;\n",
       "    }\n",
       "</style>\n",
       "<table border=\"1\" class=\"dataframe\">\n",
       "  <thead>\n",
       "    <tr style=\"text-align: right;\">\n",
       "      <th></th>\n",
       "      <th>Algo</th>\n",
       "      <th>Threshold</th>\n",
       "    </tr>\n",
       "  </thead>\n",
       "  <tbody>\n",
       "    <tr>\n",
       "      <th>0</th>\n",
       "      <td>lightgbm</td>\n",
       "      <td>0.51446</td>\n",
       "    </tr>\n",
       "    <tr>\n",
       "      <th>1</th>\n",
       "      <td>decisiontree</td>\n",
       "      <td>0.46753</td>\n",
       "    </tr>\n",
       "    <tr>\n",
       "      <th>2</th>\n",
       "      <td>randomforest</td>\n",
       "      <td>0.45088</td>\n",
       "    </tr>\n",
       "    <tr>\n",
       "      <th>3</th>\n",
       "      <td>logistic</td>\n",
       "      <td>0.49038</td>\n",
       "    </tr>\n",
       "    <tr>\n",
       "      <th>0</th>\n",
       "      <td>temp-lightgbm</td>\n",
       "      <td>0.42990</td>\n",
       "    </tr>\n",
       "    <tr>\n",
       "      <th>1</th>\n",
       "      <td>temp-decisiontree</td>\n",
       "      <td>0.48649</td>\n",
       "    </tr>\n",
       "    <tr>\n",
       "      <th>2</th>\n",
       "      <td>temp-randomforest</td>\n",
       "      <td>0.47041</td>\n",
       "    </tr>\n",
       "    <tr>\n",
       "      <th>3</th>\n",
       "      <td>temp-logistic</td>\n",
       "      <td>0.49653</td>\n",
       "    </tr>\n",
       "    <tr>\n",
       "      <th>0</th>\n",
       "      <td>CNN</td>\n",
       "      <td>0.38252</td>\n",
       "    </tr>\n",
       "    <tr>\n",
       "      <th>1</th>\n",
       "      <td>BLSTM</td>\n",
       "      <td>0.31312</td>\n",
       "    </tr>\n",
       "  </tbody>\n",
       "</table>\n",
       "</div>"
      ],
      "text/plain": [
       "                Algo  Threshold\n",
       "0           lightgbm    0.51446\n",
       "1       decisiontree    0.46753\n",
       "2       randomforest    0.45088\n",
       "3           logistic    0.49038\n",
       "0      temp-lightgbm    0.42990\n",
       "1  temp-decisiontree    0.48649\n",
       "2  temp-randomforest    0.47041\n",
       "3      temp-logistic    0.49653\n",
       "0                CNN    0.38252\n",
       "1              BLSTM    0.31312"
      ]
     },
     "execution_count": 15,
     "metadata": {},
     "output_type": "execute_result"
    }
   ],
   "source": [
    "threshold_12"
   ]
  },
  {
   "cell_type": "markdown",
   "metadata": {},
   "source": [
    "## Get a normalized confusion matrix\n",
    "\n",
    "We will plot the confusion matrix for the deep learning models"
   ]
  },
  {
   "cell_type": "code",
   "execution_count": 16,
   "metadata": {
    "ExecuteTime": {
     "end_time": "2021-03-20T13:34:50.739012Z",
     "start_time": "2021-03-20T13:34:49.385129Z"
    }
   },
   "outputs": [
    {
     "data": {
      "text/plain": [
       "Text(0.5, 1.05, 'Confusion matrix for 6 months')"
      ]
     },
     "execution_count": 16,
     "metadata": {},
     "output_type": "execute_result"
    },
    {
     "data": {
      "image/png": "[encoded data removed]",
      "text/plain": [
       "<Figure size 360x360 with 1 Axes>"
      ]
     },
     "metadata": {
      "needs_background": "light"
     },
     "output_type": "display_data"
    },
    {
     "data": {
      "image/png": "[encoded data removed]",
      "text/plain": [
       "<Figure size 360x360 with 1 Axes>"
      ]
     },
     "metadata": {
      "needs_background": "light"
     },
     "output_type": "display_data"
    }
   ],
   "source": [
    "from mlxtend.plotting import plot_confusion_matrix\n",
    "\n",
    "cm = confusion_matrix(deep_preds_6['y'], deep_preds_6['CNN']['pred'])\n",
    "\n",
    "fig6, ax = plot_confusion_matrix(conf_mat=cm, show_normed=True, show_absolute=False,\n",
    "                     class_names=['Negative', 'Positive'], figsize=(5,5),\n",
    "                               cmap='Reds')\n",
    "fig7, ax = plot_confusion_matrix(conf_mat=cm, show_normed=False, show_absolute=True,\n",
    "                     class_names=['Negative', 'Positive'], figsize=(5,5),\n",
    "                               cmap='Reds')\n",
    "\n",
    "ax.set_xlabel('Predicted class', fontdict=dict(weight='bold', size=12))\n",
    "ax.set_ylabel('Actual class', fontdict=dict(weight='bold', size=12))\n",
    "ax.tick_params(axis = 'both', which = 'major', labelsize = 11, rotation=0)\n",
    "ax.tick_params(axis = 'x', which = 'major', labelsize = 11, rotation=0, pad=10)\n",
    "\n",
    "annotations = [child for child in ax.get_children() if isinstance(child, matplotlib.text.Text)][:4]\n",
    "for txt in annotations:\n",
    "    txt.set_fontsize(14)\n",
    "\n",
    "plt.title('Confusion matrix for 6 months', fontdict={'size': 12, 'weight': 'bold'})"
   ]
  },
  {
   "cell_type": "code",
   "execution_count": 17,
   "metadata": {
    "ExecuteTime": {
     "start_time": "2021-03-20T13:29:22.375Z"
    }
   },
   "outputs": [
    {
     "data": {
      "text/plain": [
       "Text(0.5, 1.05, 'Confusion matrix for 12 months')"
      ]
     },
     "execution_count": 17,
     "metadata": {},
     "output_type": "execute_result"
    },
    {
     "data": {
      "image/png": "[encoded data removed]",
      "text/plain": [
       "<Figure size 360x360 with 1 Axes>"
      ]
     },
     "metadata": {
      "needs_background": "light"
     },
     "output_type": "display_data"
    },
    {
     "data": {
      "image/png": "[encoded data removed]",
      "text/plain": [
       "<Figure size 360x360 with 1 Axes>"
      ]
     },
     "metadata": {
      "needs_background": "light"
     },
     "output_type": "display_data"
    }
   ],
   "source": [
    "from mlxtend.plotting import plot_confusion_matrix\n",
    "\n",
    "cm = confusion_matrix(deep_preds_12['y'], deep_preds_12['CNN']['pred'])\n",
    "\n",
    "fig12, ax = plot_confusion_matrix(conf_mat=cm, show_normed=True, show_absolute=False,\n",
    "                     class_names=['Negative', 'Positive'], figsize=(5,5),\n",
    "                               cmap='Reds')\n",
    "fig13, ax = plot_confusion_matrix(conf_mat=cm, show_normed=False, show_absolute=True,\n",
    "                     class_names=['Negative', 'Positive'], figsize=(5,5),\n",
    "                               cmap='Reds')\n",
    "\n",
    "ax.set_xlabel('Predicted class', fontdict=dict(weight='bold', size=12))\n",
    "ax.set_ylabel('Actual class', fontdict=dict(weight='bold', size=12))\n",
    "ax.tick_params(axis = 'both', which = 'major', labelsize = 11, rotation=0)\n",
    "ax.tick_params(axis = 'x', which = 'major', labelsize = 11, rotation=0, pad=10)\n",
    "\n",
    "annotations = [child for child in ax.get_children() if isinstance(child, matplotlib.text.Text)][:4]\n",
    "for txt in annotations:\n",
    "    txt.set_fontsize(14)\n",
    "    \n",
    "plt.title('Confusion matrix for 12 months', fontdict={'size': 12, 'weight': 'bold'})"
   ]
  },
  {
   "cell_type": "markdown",
   "metadata": {},
   "source": [
    "## Get ROC curve"
   ]
  },
  {
   "cell_type": "code",
   "execution_count": 18,
   "metadata": {
    "ExecuteTime": {
     "start_time": "2021-03-20T13:29:22.380Z"
    }
   },
   "outputs": [
    {
     "data": {
      "text/plain": [
       "<matplotlib.legend.Legend at 0x7f59ba706550>"
      ]
     },
     "execution_count": 18,
     "metadata": {},
     "output_type": "execute_result"
    },
    {
     "data": {
      "image/png": "[encoded data removed]",
      "text/plain": [
       "<Figure size 432x432 with 1 Axes>"
      ]
     },
     "metadata": {
      "needs_background": "light"
     },
     "output_type": "display_data"
    }
   ],
   "source": [
    "fig = plt.figure(figsize=(6,6))\n",
    "\n",
    "lw = 2\n",
    "\n",
    "for algo, model in deep_preds_6.items():\n",
    "    if algo == 'y':\n",
    "        continue\n",
    "    fpr, tpr, thresh = roc_curve(deep_preds_6['y'], deep_preds_6[algo]['pred_proba'])\n",
    "    auc = roc_auc_score(deep_preds_6['y'], deep_preds_6[algo]['pred_proba'])\n",
    "    auc = round(auc, 3)\n",
    "    plt.plot(fpr,tpr, label=algo+f' ({auc})', lw=lw)\n",
    "    \n",
    "# youden's index for CNN\n",
    "# fpr, tpr, thresh = roc_curve(deep_preds_6['y'], deep_preds_6['CNN']['pred_proba'])\n",
    "# optimal_idx = np.argmax(tpr - fpr)\n",
    "# optimal_threshold = thresh[optimal_idx]\n",
    "# print(optimal_threshold, optimal_idx)\n",
    "# plt.scatter(fpr[optimal_idx], tpr[optimal_idx], marker='x', color='black',\n",
    "#             lw=lw, s=150, zorder=5,\n",
    "#             label='CNN Youden index')\n",
    "# plt.text(fpr[optimal_idx]-.02, tpr[optimal_idx]+.04, round(optimal_threshold, 2))\n",
    "\n",
    "# Semi-temporal algos\n",
    "rocs = []\n",
    "for algo, model in st_preds_6.items():\n",
    "    if algo == 'y':\n",
    "        continue\n",
    "    if algo != 'temp-lightgbm':\n",
    "        continue\n",
    "    fpr, tpr, thresh = roc_curve(st_preds_6['y'], st_preds_6[algo]['pred_proba'])\n",
    "    auc = roc_auc_score(st_preds_6['y'], st_preds_6[algo]['pred_proba'])\n",
    "    auc = round(auc, 3)\n",
    "    rocs.append((algo, auc, [fpr, tpr]))\n",
    "# sort legend by AUC\n",
    "rocs = sorted(rocs, key=lambda x: x[1], reverse=True)\n",
    "for algo, auc, [fpr, tpr] in rocs:    \n",
    "    plt.plot(fpr,tpr, label=algo+f' ({auc})', lw=lw)\n",
    "\n",
    "# ML algos\n",
    "rocs = []\n",
    "for algo, model in preds_6.items():\n",
    "    if algo == 'y':\n",
    "        continue\n",
    "    if algo != 'lightgbm':\n",
    "        continue\n",
    "    fpr, tpr, thresh = roc_curve(preds_6['y'], preds_6[algo]['pred_proba'])\n",
    "    auc = roc_auc_score(preds_6['y'], preds_6[algo]['pred_proba'])\n",
    "    auc = round(auc, 3)\n",
    "    rocs.append((algo, auc, [fpr, tpr]))\n",
    "# sort legend by AUC\n",
    "rocs = sorted(rocs, key=lambda x: x[1], reverse=True)\n",
    "for algo, auc, [fpr, tpr] in rocs:    \n",
    "    plt.plot(fpr,tpr, label=algo+f' ({auc})', lw=lw)\n",
    "    \n",
    "# chance line\n",
    "plt.plot([0, 1], [0, 1], color='navy', label='chance line (0.5)', linestyle='--', lw=lw)\n",
    "plt.xlabel('1 - Specificity')\n",
    "plt.ylabel('Sensitivity')\n",
    "# plt.title('ROC curve for 6 months', size=12)\n",
    "plt.text(0.7,0.25, '6 month', fontsize=12)\n",
    "plt.grid(linewidth=1.2, color='lightgray')\n",
    "plt.legend(loc='lower right')"
   ]
  },
  {
   "cell_type": "code",
   "execution_count": 19,
   "metadata": {
    "ExecuteTime": {
     "start_time": "2021-03-20T13:29:22.385Z"
    }
   },
   "outputs": [
    {
     "data": {
      "text/plain": [
       "<matplotlib.legend.Legend at 0x7f59ba69afd0>"
      ]
     },
     "execution_count": 19,
     "metadata": {},
     "output_type": "execute_result"
    },
    {
     "data": {
      "image/png": "[encoded data removed]",
      "text/plain": [
       "<Figure size 432x432 with 1 Axes>"
      ]
     },
     "metadata": {
      "needs_background": "light"
     },
     "output_type": "display_data"
    }
   ],
   "source": [
    "fig = plt.figure(figsize=(6,6))\n",
    "\n",
    "lw = 2\n",
    "\n",
    "for algo, model in deep_preds_12.items():\n",
    "    if algo == 'y':\n",
    "        continue\n",
    "    fpr, tpr, thresh = roc_curve(deep_preds_12['y'], deep_preds_12[algo]['pred_proba'])\n",
    "    auc = roc_auc_score(deep_preds_12['y'], deep_preds_12[algo]['pred_proba'])\n",
    "    auc = round(auc, 3)\n",
    "    plt.plot(fpr,tpr, label=algo+f' ({auc})', lw=lw)\n",
    "    \n",
    "# # youden's index for CNN\n",
    "# fpr, tpr, thresh = roc_curve(deep_preds_12['y'], deep_preds_12['CNN']['pred_proba'])\n",
    "# optimal_idx = np.argmax(tpr - fpr)\n",
    "# optimal_threshold = thresh[optimal_idx]\n",
    "# print(optimal_threshold, optimal_idx)\n",
    "# plt.scatter(fpr[optimal_idx], tpr[optimal_idx], marker='x', color='black',\n",
    "#             lw=lw, s=150, zorder=5,\n",
    "#             label='CNN Youden index')\n",
    "# plt.text(fpr[optimal_idx]-.02, tpr[optimal_idx]+.04, round(optimal_threshold, 2))\n",
    "\n",
    "# Semi-temporal algos\n",
    "rocs = []\n",
    "for algo, model in st_preds_12.items():\n",
    "    if algo == 'y':\n",
    "        continue\n",
    "    if algo != 'temp-lightgbm':\n",
    "        continue\n",
    "    fpr, tpr, thresh = roc_curve(st_preds_12['y'], st_preds_12[algo]['pred_proba'])\n",
    "    auc = roc_auc_score(st_preds_12['y'], st_preds_12[algo]['pred_proba'])\n",
    "    auc = round(auc, 3)\n",
    "    rocs.append((algo, auc, [fpr, tpr]))\n",
    "# sort legend by AUC\n",
    "rocs = sorted(rocs, key=lambda x: x[1], reverse=True)\n",
    "for algo, auc, [fpr, tpr] in rocs:    \n",
    "    plt.plot(fpr,tpr, label=algo+f' ({auc})', lw=lw)\n",
    "    \n",
    "    \n",
    "# ML algos\n",
    "rocs = []\n",
    "for algo, model in preds_12.items():\n",
    "    if algo == 'y':\n",
    "        continue\n",
    "    if algo != 'lightgbm':\n",
    "        continue\n",
    "    fpr, tpr, thresh = roc_curve(preds_12['y'], preds_12[algo]['pred_proba'])\n",
    "    auc = roc_auc_score(preds_12['y'], preds_12[algo]['pred_proba'])\n",
    "    auc = round(auc, 3)\n",
    "    rocs.append((algo, auc, [fpr, tpr]))\n",
    "# sort legend by AUC\n",
    "rocs = sorted(rocs, key=lambda x: x[1], reverse=True)\n",
    "for algo, auc, [fpr, tpr] in rocs:    \n",
    "    plt.plot(fpr,tpr, label=algo+f' ({auc})', lw=lw)\n",
    "    \n",
    "# chance line\n",
    "plt.plot([0, 1], [0, 1], color='navy', label='chance line (0.5)', linestyle='--', lw=lw)\n",
    "plt.xlabel('1 - Specificity')\n",
    "plt.ylabel('Sensitivity')\n",
    "# plt.title('ROC curve for 12 months', size=12)\n",
    "plt.text(0.7,0.25, '12 month', fontsize=12)\n",
    "plt.grid(linewidth=1.2, color='lightgray')\n",
    "plt.legend(loc='lower right')"
   ]
  },
  {
   "cell_type": "markdown",
   "metadata": {},
   "source": [
    "## Clean up\n",
    "\n",
    "Delete all the predictions cached locally"
   ]
  },
  {
   "cell_type": "code",
   "execution_count": 20,
   "metadata": {
    "ExecuteTime": {
     "start_time": "2021-03-20T13:29:22.390Z"
    }
   },
   "outputs": [
    {
     "name": "stdout",
     "output_type": "stream",
     "text": [
      "zsh:1: no matches found: *.joblib\r\n"
     ]
    }
   ],
   "source": [
    "! rm *.joblib"
   ]
  }
 ],
 "metadata": {
  "kernelspec": {
   "display_name": "Python 3",
   "language": "python",
   "name": "python3"
  },
  "language_info": {
   "codemirror_mode": {
    "name": "ipython",
    "version": 3
   },
   "file_extension": ".py",
   "mimetype": "text/x-python",
   "name": "python",
   "nbconvert_exporter": "python",
   "pygments_lexer": "ipython3",
   "version": "3.7.3"
  },
  "toc": {
   "base_numbering": 1,
   "nav_menu": {
    "height": "285px",
    "width": "250px"
   },
   "number_sections": true,
   "sideBar": true,
   "skip_h1_title": false,
   "title_cell": "Table of Contents",
   "title_sidebar": "Contents",
   "toc_cell": false,
   "toc_position": {
    "height": "calc(100% - 180px)",
    "left": "10px",
    "top": "150px",
    "width": "187.8px"
   },
   "toc_section_display": true,
   "toc_window_display": true
  },
  "varInspector": {
   "cols": {
    "lenName": 16,
    "lenType": 16,
    "lenVar": 40
   },
   "kernels_config": {
    "python": {
     "delete_cmd_postfix": "",
     "delete_cmd_prefix": "del ",
     "library": "var_list.py",
     "varRefreshCmd": "print(var_dic_list())"
    },
    "r": {
     "delete_cmd_postfix": ") ",
     "delete_cmd_prefix": "rm(",
     "library": "var_list.r",
     "varRefreshCmd": "cat(var_dic_list()) "
    }
   },
   "types_to_exclude": [
    "module",
    "function",
    "builtin_function_or_method",
    "instance",
    "_Feature"
   ],
   "window_display": false
  }
 },
 "nbformat": 4,
 "nbformat_minor": 4
}
