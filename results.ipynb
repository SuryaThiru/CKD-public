{
 "cells": [
  {
   "cell_type": "markdown",
   "metadata": {},
   "source": [
    "# Evaluate models, generate metrics and plots\n",
    "\n",
    "The notebook also generates predictions from different models. If the predictions are already generated, just run the cells below \"group results together\" and its dependencies including the imports below.\n",
    "\n",
    "**Warning:** The notebook requires GPU and 16GB RAM to run. We recommend running the cell below with imports and running all the cells under \"Group results together\" heading cell to directly use the already generated predictions. "
   ]
  },
  {
   "cell_type": "code",
   "execution_count": 1,
   "metadata": {
    "ExecuteTime": {
     "end_time": "2021-03-20T13:29:31.410495Z",
     "start_time": "2021-03-20T13:29:22.126936Z"
    }
   },
   "outputs": [],
   "source": [
    "import pandas as pd\n",
    "import numpy as np\n",
    "import matplotlib\n",
    "import matplotlib.pyplot as plt\n",
    "import seaborn as sns\n",
    "from tqdm import tqdm\n",
    "\n",
    "from sklearn.metrics import *\n",
    "from sklearn.model_selection import train_test_split\n",
    "from sklearn.compose import ColumnTransformer\n",
    "from sklearn.preprocessing import MaxAbsScaler, Binarizer\n",
    "\n",
    "from joblib import load, dump\n",
    "import joblib\n",
    "import pickle\n",
    "\n",
    "import gc\n",
    "import sys\n",
    "\n",
    "%matplotlib inline"
   ]
  },
  {
   "cell_type": "code",
   "execution_count": 2,
   "metadata": {
    "ExecuteTime": {
     "end_time": "2021-03-20T13:29:31.432707Z",
     "start_time": "2021-03-20T13:29:31.420604Z"
    }
   },
   "outputs": [],
   "source": [
    "SEED = 42\n",
    "np.random.seed(SEED)"
   ]
  },
  {
   "cell_type": "markdown",
   "metadata": {},
   "source": [
    "# Results for aggregated models"
   ]
  },
  {
   "cell_type": "markdown",
   "metadata": {},
   "source": [
    "## Load data"
   ]
  },
  {
   "cell_type": "code",
   "execution_count": null,
   "metadata": {
    "ExecuteTime": {
     "end_time": "2021-03-20T13:30:54.785627Z",
     "start_time": "2021-03-20T13:29:31.438337Z"
    }
   },
   "outputs": [],
   "source": [
    "filepath_6m = 'data/6 month/'\n",
    "data_6m = pd.read_feather(filepath_6m + 'flat_6m.feather')\n",
    "filepath_12m = 'data/12 month/'\n",
    "data_12m = pd.read_feather(filepath_12m + 'flat_12m.feather')\n",
    "\n",
    "# drop age outliers\n",
    "data_6m = data_6m.loc[data_6m['age']<100,:]\n",
    "data_12m = data_12m.loc[data_12m['age']<100,:]\n",
    "\n",
    "print('6m : ', data_6m.shape, ' 12m : ', data_12m.shape)"
   ]
  },
  {
   "cell_type": "code",
   "execution_count": null,
   "metadata": {
    "ExecuteTime": {
     "end_time": "2021-03-20T13:30:56.644321Z",
     "start_time": "2021-03-20T13:30:54.787473Z"
    }
   },
   "outputs": [],
   "source": [
    "with open(filepath_6m + '6m_test_ids.pkl', 'rb') as f:\n",
    "    test_ids_6 = pickle.load(f)\n",
    "\n",
    "train_6m = data_6m[~data_6m['id'].isin(test_ids_6)]\n",
    "test_6m = data_6m[data_6m['id'].isin(test_ids_6)]\n",
    "print('6m train/test : ', train_6m.shape, test_6m.shape)\n",
    "\n",
    "with open(filepath_12m + '12m_test_ids.pkl', 'rb') as f:\n",
    "    test_ids_12 = pickle.load(f)\n",
    " \n",
    "train_12m = data_12m[~data_12m['id'].isin(test_ids_12)]\n",
    "test_12m = data_12m[data_12m['id'].isin(test_ids_12)]\n",
    "print('12m train/test : ', train_12m.shape, test_12m.shape)"
   ]
  },
  {
   "cell_type": "code",
   "execution_count": null,
   "metadata": {
    "ExecuteTime": {
     "end_time": "2021-03-20T13:30:56.699324Z",
     "start_time": "2021-03-20T13:30:56.646772Z"
    }
   },
   "outputs": [],
   "source": [
    "del data_6m\n",
    "del data_12m\n",
    "\n",
    "gc.collect()"
   ]
  },
  {
   "cell_type": "markdown",
   "metadata": {
    "heading_collapsed": true
   },
   "source": [
    "## Preprocess "
   ]
  },
  {
   "cell_type": "code",
   "execution_count": null,
   "metadata": {
    "ExecuteTime": {
     "end_time": "2021-03-20T13:31:00.959328Z",
     "start_time": "2021-03-20T13:30:56.702406Z"
    },
    "hidden": true
   },
   "outputs": [],
   "source": [
    "from preprocessing import Preprocessor\n",
    "\n",
    "preproc = Preprocessor()\n",
    "\n",
    "X_train_6, Y_train_6 = preproc.fit_transform(train_6m)\n",
    "X_test_6, Y_test_6 = preproc.transform(test_6m)\n",
    "print(X_train_6.shape, X_test_6.shape)\n",
    "\n",
    "preproc = Preprocessor()\n",
    "\n",
    "X_train_12, Y_train_12 = preproc.fit_transform(train_12m)\n",
    "X_test_12, Y_test_12 = preproc.transform(test_12m)\n",
    "print(X_train_12.shape, X_test_12.shape)"
   ]
  },
  {
   "cell_type": "code",
   "execution_count": null,
   "metadata": {
    "ExecuteTime": {
     "end_time": "2021-03-20T13:31:00.965889Z",
     "start_time": "2021-03-20T13:31:00.961585Z"
    },
    "hidden": true
   },
   "outputs": [],
   "source": [
    "assert X_train_6.shape[1] == X_test_6.shape[1]\n",
    "assert X_train_12.shape[1] == X_test_12.shape[1]"
   ]
  },
  {
   "cell_type": "code",
   "execution_count": null,
   "metadata": {
    "ExecuteTime": {
     "end_time": "2021-03-20T13:31:01.085577Z",
     "start_time": "2021-03-20T13:31:00.970158Z"
    },
    "hidden": true
   },
   "outputs": [],
   "source": [
    "ct6 = ColumnTransformer(\n",
    "    [(\"age_norm\", MaxAbsScaler(), ['age']),\n",
    "    ('sex_pass', 'passthrough', ['sex'])],\n",
    "    remainder=Binarizer())\n",
    "\n",
    "ct12 = ColumnTransformer(\n",
    "    [(\"age_norm\", MaxAbsScaler(), ['age']),\n",
    "    ('sex_pass', 'passthrough', ['sex'])],\n",
    "    remainder=Binarizer())"
   ]
  },
  {
   "cell_type": "markdown",
   "metadata": {},
   "source": [
    "## Map models from files\n",
    "\n",
    "Load models from the file to a dictionary creating a mapping of dict -> model"
   ]
  },
  {
   "cell_type": "code",
   "execution_count": null,
   "metadata": {
    "ExecuteTime": {
     "end_time": "2021-03-20T13:31:01.523041Z",
     "start_time": "2021-03-20T13:31:01.095185Z"
    }
   },
   "outputs": [],
   "source": [
    "! ls models/6m\\ agg && ls models/12m\\ agg"
   ]
  },
  {
   "cell_type": "code",
   "execution_count": null,
   "metadata": {
    "ExecuteTime": {
     "end_time": "2021-03-20T13:31:01.545383Z",
     "start_time": "2021-03-20T13:31:01.530904Z"
    }
   },
   "outputs": [],
   "source": [
    "models12_path = 'models/12m agg/'\n",
    "models6_path = 'models/6m agg/'"
   ]
  },
  {
   "cell_type": "code",
   "execution_count": null,
   "metadata": {
    "ExecuteTime": {
     "end_time": "2021-03-20T13:31:05.332376Z",
     "start_time": "2021-03-20T13:31:01.547716Z"
    }
   },
   "outputs": [],
   "source": [
    "models_6 = {\n",
    "    'lightgbm': load(models6_path + '6m_LGBMClassifier.joblib'),\n",
    "    'decisiontree': load(models6_path + '6m_DecisionTreeClassifier.joblib'),\n",
    "    'randomforest': load(models6_path + '6m_RandomForestClassifier.joblib'),\n",
    "    'logistic': load(models6_path + '6m_LogisticRegression.joblib')\n",
    "}"
   ]
  },
  {
   "cell_type": "code",
   "execution_count": null,
   "metadata": {
    "ExecuteTime": {
     "end_time": "2021-03-20T13:31:07.665656Z",
     "start_time": "2021-03-20T13:31:05.335611Z"
    }
   },
   "outputs": [],
   "source": [
    "models_12 = {\n",
    "    'lightgbm': load(models12_path + '12m_LGBMClassifier.joblib'),\n",
    "    'decisiontree': load(models12_path + '12m_DecisionTreeClassifier.joblib'),\n",
    "    'randomforest': load(models12_path + '12m_RandomForestClassifier.joblib'),\n",
    "    'logistic': load(models12_path + '12m_LogisticRegression.joblib')\n",
    "}"
   ]
  },
  {
   "cell_type": "markdown",
   "metadata": {},
   "source": [
    "## Generate results and store it in a dict\n",
    "\n",
    "```python\n",
    "{\n",
    "    y: y_true,\n",
    "    algoname: {\n",
    "        pred: [],\n",
    "        pred_proba: []\n",
    "    }\n",
    "}\n",
    "```"
   ]
  },
  {
   "cell_type": "code",
   "execution_count": null,
   "metadata": {
    "ExecuteTime": {
     "end_time": "2021-03-20T13:31:14.724090Z",
     "start_time": "2021-03-20T13:31:07.667538Z"
    }
   },
   "outputs": [],
   "source": [
    "ct6.fit(X_train_6)\n",
    "ct12.fit(X_train_12)"
   ]
  },
  {
   "cell_type": "code",
   "execution_count": null,
   "metadata": {
    "ExecuteTime": {
     "end_time": "2021-03-20T13:31:14.734071Z",
     "start_time": "2021-03-20T13:31:14.726759Z"
    }
   },
   "outputs": [],
   "source": [
    "X_train_12.shape, X_train_6.shape"
   ]
  },
  {
   "cell_type": "code",
   "execution_count": null,
   "metadata": {
    "ExecuteTime": {
     "end_time": "2021-03-20T13:31:20.052039Z",
     "start_time": "2021-03-20T13:31:14.736458Z"
    },
    "scrolled": true
   },
   "outputs": [],
   "source": [
    "preds_6 = {\n",
    "    'y': Y_test_6\n",
    "}\n",
    "\n",
    "algos_with_preproc = ['logistic']\n",
    "\n",
    "for algoname, model in tqdm(models_6.items()):\n",
    "    if algoname in algos_with_preproc:\n",
    "        X_test = ct6.transform(X_test_6)\n",
    "    else:\n",
    "        X_test = X_test_6.copy()\n",
    "    y_pred = model.predict(X_test)\n",
    "    y_pred_proba = model.predict_proba(X_test)[:,1]\n",
    "    \n",
    "    preds_6[algoname] = {\n",
    "        'pred': y_pred,\n",
    "        'pred_proba': y_pred_proba\n",
    "    }"
   ]
  },
  {
   "cell_type": "code",
   "execution_count": null,
   "metadata": {
    "ExecuteTime": {
     "end_time": "2021-03-20T13:31:24.715676Z",
     "start_time": "2021-03-20T13:31:20.054005Z"
    }
   },
   "outputs": [],
   "source": [
    "preds_12 = {\n",
    "    'y': Y_test_12\n",
    "}\n",
    "\n",
    "algos_with_preproc = ['logistic']\n",
    "\n",
    "for algoname, model in tqdm(models_12.items()):\n",
    "    if algoname in algos_with_preproc:\n",
    "        X_test = ct12.transform(X_test_12)\n",
    "    else:\n",
    "        X_test = X_test_12.copy()\n",
    "    y_pred = model.predict(X_test)\n",
    "    y_pred_proba = model.predict_proba(X_test)[:,1]\n",
    "    \n",
    "    preds_12[algoname] = {\n",
    "        'pred': y_pred,\n",
    "        'pred_proba': y_pred_proba\n",
    "    }"
   ]
  },
  {
   "cell_type": "code",
   "execution_count": null,
   "metadata": {
    "ExecuteTime": {
     "end_time": "2021-03-20T13:31:24.936375Z",
     "start_time": "2021-03-20T13:31:24.717664Z"
    },
    "scrolled": true
   },
   "outputs": [],
   "source": [
    "dump(preds_6, 'predictions_6m.joblib')"
   ]
  },
  {
   "cell_type": "code",
   "execution_count": null,
   "metadata": {
    "ExecuteTime": {
     "end_time": "2021-03-20T13:31:24.992410Z",
     "start_time": "2021-03-20T13:31:24.938430Z"
    }
   },
   "outputs": [],
   "source": [
    "dump(preds_12, 'predictions_12m.joblib')"
   ]
  },
  {
   "cell_type": "markdown",
   "metadata": {},
   "source": [
    "# Results for deep learning and semi-temporal model"
   ]
  },
  {
   "cell_type": "markdown",
   "metadata": {},
   "source": [
    "```python\n",
    "{\n",
    "    y: y_true,\n",
    "    algoname: {\n",
    "        pred: [],\n",
    "        pred_proba: []\n",
    "    }\n",
    "}\n",
    "```"
   ]
  },
  {
   "cell_type": "code",
   "execution_count": 3,
   "metadata": {
    "ExecuteTime": {
     "end_time": "2021-03-20T13:31:49.571535Z",
     "start_time": "2021-03-20T13:31:24.994734Z"
    }
   },
   "outputs": [],
   "source": [
    "import tensorflow as tf\n",
    "from tensorflow.keras.models import load_model\n",
    "import tensorflow.keras.backend as K"
   ]
  },
  {
   "cell_type": "code",
   "execution_count": 4,
   "metadata": {
    "ExecuteTime": {
     "end_time": "2021-03-20T13:31:49.579301Z",
     "start_time": "2021-03-20T13:31:49.574772Z"
    }
   },
   "outputs": [],
   "source": [
    "tf.random.set_seed(SEED)"
   ]
  },
  {
   "cell_type": "code",
   "execution_count": 5,
   "metadata": {
    "ExecuteTime": {
     "end_time": "2021-03-20T13:31:49.664533Z",
     "start_time": "2021-03-20T13:31:49.581967Z"
    }
   },
   "outputs": [],
   "source": [
    "def f1(y_true, y_pred):\n",
    "    def recall(y_true, y_pred):\n",
    "        \"\"\"Recall metric.\n",
    "\n",
    "        Only computes a batch-wise average of recall.\n",
    "\n",
    "        Computes the recall, a metric for multi-label classification of\n",
    "        how many relevant items are selected.\n",
    "        \"\"\"\n",
    "        true_positives = K.sum(K.round(K.clip(y_true * y_pred, 0, 1)))\n",
    "        possible_positives = K.sum(K.round(K.clip(y_true, 0, 1)))\n",
    "        recall = true_positives / (possible_positives + K.epsilon())\n",
    "        return recall\n",
    "\n",
    "    def precision(y_true, y_pred):\n",
    "        \"\"\"Precision metric.\n",
    "\n",
    "        Only computes a batch-wise average of precision.\n",
    "\n",
    "        Computes the precision, a metric for multi-label classification of\n",
    "        how many selected items are relevant.\n",
    "        \"\"\"\n",
    "        true_positives = K.sum(K.round(K.clip(y_true * y_pred, 0, 1)))\n",
    "        predicted_positives = K.sum(K.round(K.clip(y_pred, 0, 1)))\n",
    "        precision = true_positives / (predicted_positives + K.epsilon())\n",
    "        return precision\n",
    "\n",
    "    precision = precision(y_true, y_pred)\n",
    "    recall = recall(y_true, y_pred)\n",
    "    return 2 * ((precision * recall) / (precision + recall + K.epsilon()))"
   ]
  },
  {
   "cell_type": "markdown",
   "metadata": {},
   "source": [
    "\n",
    "## 6 months"
   ]
  },
  {
   "cell_type": "markdown",
   "metadata": {},
   "source": [
    "### Deep learning models"
   ]
  },
  {
   "cell_type": "code",
   "execution_count": 6,
   "metadata": {
    "ExecuteTime": {
     "end_time": "2021-03-20T13:31:49.893510Z",
     "start_time": "2021-03-20T13:31:49.666379Z"
    }
   },
   "outputs": [],
   "source": [
    "from data_loader import DataLoader\n",
    "import pickle"
   ]
  },
  {
   "cell_type": "markdown",
   "metadata": {},
   "source": [
    "Load the data generator"
   ]
  },
  {
   "cell_type": "code",
   "execution_count": 7,
   "metadata": {
    "ExecuteTime": {
     "end_time": "2021-03-20T13:31:58.237566Z",
     "start_time": "2021-03-20T13:31:49.925373Z"
    }
   },
   "outputs": [
    {
     "name": "stderr",
     "output_type": "stream",
     "text": [
      "/usr/local/lib/python3.6/dist-packages/ipykernel_launcher.py:21: FutureWarning: Sorting because non-concatenation axis is not aligned. A future version\n",
      "of pandas will change to not sort by default.\n",
      "\n",
      "To accept the future behavior, pass 'sort=False'.\n",
      "\n",
      "To retain the current behavior and silence the warning, pass 'sort=True'.\n",
      "\n",
      "Loading sparse dataset: 100%|██████████| 17998/17998 [00:00<00:00, 478390.62it/s]\n"
     ]
    }
   ],
   "source": [
    "with open('data/6 month/diag_dict.pkl', 'rb') as f:\n",
    "  diag = pickle.load(f)\n",
    "  diag_ids = list(diag.keys())\n",
    "\n",
    "with open('data/6 month/drug_dict.pkl', 'rb') as f:\n",
    "  drug = pickle.load(f)\n",
    "  drug_ids = list(drug.keys())\n",
    "    \n",
    "# get list of ids to use\n",
    "data_dir = \"data\"\n",
    "\n",
    "case = pd.read_feather(data_dir + '/case_age_sex.feather')\n",
    "control = pd.read_feather(data_dir + '/control_age_sex.feather')\n",
    "\n",
    "# remove age outliers\n",
    "case = case.loc[case['age'] < 100]\n",
    "control = control.loc[control['age'] < 100]\n",
    "\n",
    "case['label'] = 1\n",
    "control['label'] = 0\n",
    "data = pd.concat([case, control])\n",
    "data = data[data['sex'] != 'U']\n",
    "\n",
    "info_ids = set(case.id).union(set(control.id))\n",
    "list_ids = sorted(list(set(diag_ids) & set(drug_ids) & set(info_ids)))\n",
    "data = data.loc[data['id'].isin(list_ids)]\n",
    "\n",
    "# train test split\n",
    "train_ids, test_ids = train_test_split(data[['id', 'label']],\n",
    "                                       test_size=0.2,\n",
    "                                       shuffle=True,\n",
    "                                       stratify=data['label'],\n",
    "                                       random_state=SEED)\n",
    "train_ids, val_ids = train_test_split(train_ids,\n",
    "                                       test_size=0.2,\n",
    "                                       shuffle=True,\n",
    "                                       stratify=train_ids['label'],\n",
    "                                       random_state=SEED)\n",
    "\n",
    "train_ids = train_ids['id'].tolist()\n",
    "val_ids = val_ids['id'].tolist()\n",
    "test_ids = test_ids['id'].tolist()\n",
    "\n",
    "\n",
    "def preproc(X, X_, y):\n",
    "\n",
    "    if X.shape[-1] > 965:\n",
    "        X = np.delete(X, [(965 + 276)], axis=-1)  # id col in drug\n",
    "    \n",
    "    return X, X_, y\n",
    "\n",
    "test_generator = DataLoader(test_ids,\n",
    "                            data_dir,\n",
    "                            '/6 month',\n",
    "                            batch_size=128,\n",
    "                            include_drug=True,\n",
    "                            shuffle=False,\n",
    "                            preprocess_func=preproc)\n",
    "Y_test = test_generator.get_labels()\n",
    "\n",
    "deep_preds_6 = {\n",
    "    'y': Y_test\n",
    "}"
   ]
  },
  {
   "cell_type": "code",
   "execution_count": null,
   "metadata": {
    "ExecuteTime": {
     "end_time": "2021-03-20T13:33:05.192747Z",
     "start_time": "2021-03-20T13:31:58.241520Z"
    },
    "jupyter": {
     "source_hidden": true
    }
   },
   "outputs": [],
   "source": [
    "# CNN model\n",
    "cnn6m = load_model('models/6m TS/CNN.hdf5',\n",
    "                    custom_objects={'f1': f1})\n",
    "yt_pred = cnn6m.predict_generator(test_generator,\n",
    "                                  workers=4,\n",
    "                                  use_multiprocessing=True,\n",
    "                                  verbose=1)\n",
    "thresh = 0.5\n",
    "yt_pred_bin = np.where(yt_pred > thresh, 1, 0)\n",
    "deep_preds_6['CNN'] = {\n",
    "        'pred': yt_pred_bin,\n",
    "        'pred_proba': yt_pred\n",
    "    }\n",
    "del cnn6m\n",
    "\n",
    "# LSTM model\n",
    "lstm6m = load_model('models/6m TS/BLSTM.hdf5',\n",
    "                    custom_objects={'f1': f1})\n",
    "yt_pred = lstm6m.predict_generator(test_generator,\n",
    "                                  workers=4,\n",
    "                                  use_multiprocessing=True,\n",
    "                                  verbose=1)\n",
    "thresh = 0.5\n",
    "yt_pred_bin = np.where(yt_pred > thresh, 1, 0)\n",
    "deep_preds_6['BLSTM'] = {\n",
    "        'pred': yt_pred_bin,\n",
    "        'pred_proba': yt_pred\n",
    "    }\n",
    "del lstm6m"
   ]
  },
  {
   "cell_type": "code",
   "execution_count": null,
   "metadata": {
    "ExecuteTime": {
     "end_time": "2021-03-20T13:33:05.289285Z",
     "start_time": "2021-03-20T13:33:05.196297Z"
    }
   },
   "outputs": [],
   "source": [
    "dump(deep_preds_6, 'deep_predictions_6m.joblib')"
   ]
  },
  {
   "cell_type": "markdown",
   "metadata": {},
   "source": [
    "### Semi-temporal methods"
   ]
  },
  {
   "cell_type": "markdown",
   "metadata": {},
   "source": [
    "Load the saved models"
   ]
  },
  {
   "cell_type": "code",
   "execution_count": null,
   "metadata": {
    "ExecuteTime": {
     "end_time": "2021-03-20T13:33:07.574888Z",
     "start_time": "2021-03-20T13:33:05.291831Z"
    }
   },
   "outputs": [],
   "source": [
    "models6_path = 'models/6m ST/'\n",
    "\n",
    "models_6 = {\n",
    "    'temp-lightgbm': load(models6_path + '6m_ST_LGBMClassifier.joblib'),\n",
    "    'temp-decisiontree': load(models6_path + '6m_ST_DecisionTreeClassifier.joblib'),\n",
    "    'temp-randomforest': load(models6_path + '6m_ST_RandomForestClassifier.joblib'),\n",
    "    'temp-logistic': load(models6_path + '6m_ST_LogisticRegression.joblib')\n",
    "}"
   ]
  },
  {
   "cell_type": "markdown",
   "metadata": {},
   "source": [
    "Apply the pre-processing"
   ]
  },
  {
   "cell_type": "code",
   "execution_count": null,
   "metadata": {
    "ExecuteTime": {
     "end_time": "2021-03-20T13:33:11.819455Z",
     "start_time": "2021-03-20T13:33:07.580195Z"
    }
   },
   "outputs": [],
   "source": [
    "data = data.set_index('id')\n",
    "# encode sex\n",
    "data.loc[data['sex'] == 'M', 'sex'] = 1\n",
    "data.loc[data['sex'] == 'F', 'sex'] = 0\n",
    "\n",
    "feat_mask_file = 'data/6 month/6m_top_100_features_mask.joblib'\n",
    "features_mask = joblib.load(feat_mask_file)\n",
    "\n",
    "def preproc(X):\n",
    "    if X.shape[-1] < 965:\n",
    "        X = np.delete(X, [276], axis=-1)  # id col in drug\n",
    "        X = X[:,features_mask[965:]]\n",
    "    else:\n",
    "        X = X[:,features_mask[:965]]\n",
    "\n",
    "    return X\n",
    "\n",
    "def group_sum(arr):\n",
    "    return np.add.reduceat(arr, indices=np.arange(2, 24, 3), axis=0)\n",
    "\n",
    "def get_array(arr):\n",
    "    # get sparse array as input and return preprocessed numpy array\n",
    "    return group_sum(preproc(arr.toarray())).ravel()\n",
    "    \n",
    "def stack_arrays(list_ids):\n",
    "    \"\"\"\n",
    "    Takes a list of ids and returns a numpy array with input values \n",
    "    and the target variable in an array\n",
    "    \"\"\"\n",
    "    diag_arr = np.vstack([get_array(diag[id]) for id in list_ids])\n",
    "    drug_arr = np.vstack([get_array(drug[id]) for id in list_ids])\n",
    "    age_sex = data.loc[list_ids, ['age', 'sex']].values\n",
    "    X = np.hstack([diag_arr, drug_arr, age_sex])\n",
    "\n",
    "    y = data.loc[list_ids, 'label'].values\n",
    "    return X, y\n",
    "    \n",
    "# X_train, y_train = stack_arrays(train_ids)  # we dont need to train\n",
    "X_test, y_test = stack_arrays(test_ids)"
   ]
  },
  {
   "cell_type": "markdown",
   "metadata": {},
   "source": [
    "Get predictions for each model"
   ]
  },
  {
   "cell_type": "code",
   "execution_count": null,
   "metadata": {
    "ExecuteTime": {
     "end_time": "2021-03-20T13:33:18.179168Z",
     "start_time": "2021-03-20T13:33:11.821380Z"
    }
   },
   "outputs": [],
   "source": [
    "st_preds_6 = {\n",
    "    'y': y_test\n",
    "}\n",
    "\n",
    "for algoname, model in tqdm(models_6.items()):\n",
    "    y_pred = model.predict(X_test)\n",
    "    y_pred_proba = model.predict_proba(X_test)[:,1]\n",
    "    \n",
    "    st_preds_6[algoname] = {\n",
    "        'pred': y_pred,\n",
    "        'pred_proba': y_pred_proba\n",
    "    }"
   ]
  },
  {
   "cell_type": "markdown",
   "metadata": {},
   "source": [
    "Cleanup"
   ]
  },
  {
   "cell_type": "code",
   "execution_count": null,
   "metadata": {
    "ExecuteTime": {
     "end_time": "2021-03-20T13:33:18.660629Z",
     "start_time": "2021-03-20T13:33:18.182578Z"
    }
   },
   "outputs": [],
   "source": [
    "del X_test, y_test, diag, drug"
   ]
  },
  {
   "cell_type": "markdown",
   "metadata": {},
   "source": [
    "Save to the predictions file"
   ]
  },
  {
   "cell_type": "code",
   "execution_count": null,
   "metadata": {
    "ExecuteTime": {
     "end_time": "2021-03-20T13:33:18.781862Z",
     "start_time": "2021-03-20T13:33:18.683166Z"
    }
   },
   "outputs": [],
   "source": [
    "dump(st_preds_6, 'st_predictions_6m.joblib')"
   ]
  },
  {
   "cell_type": "markdown",
   "metadata": {},
   "source": [
    "#### Deep semi-temporal"
   ]
  },
  {
   "cell_type": "code",
   "execution_count": 8,
   "metadata": {
    "scrolled": true
   },
   "outputs": [
    {
     "name": "stderr",
     "output_type": "stream",
     "text": [
      "Loading sparse dataset: 100%|██████████| 17998/17998 [00:00<00:00, 481282.01it/s]\n"
     ]
    }
   ],
   "source": [
    "feat_mask_file = 'data/6 month/6m_top_100_features_mask.joblib'\n",
    "features_mask = load(feat_mask_file)\n",
    "\n",
    "\n",
    "def group_sum(arr):\n",
    "    return np.add.reduceat(arr, indices=np.arange(2, 24, 3), axis=1)\n",
    "\n",
    "\n",
    "def preproc(X, X_, y):\n",
    "    if X.shape[-1] > 965:\n",
    "        X = np.delete(X, [(965 + 276)], axis=-1)  # id col in drug\n",
    "\n",
    "    # feature selection\n",
    "    X = X[:,:,features_mask]\n",
    "\n",
    "\n",
    "    # group quarterly\n",
    "    X = group_sum(X)\n",
    "    \n",
    "    return X, X_, y\n",
    "\n",
    "test_generator = DataLoader(test_ids,\n",
    "                            data_dir,\n",
    "                            '/6 month',\n",
    "                            batch_size=128,\n",
    "                            include_drug=True,\n",
    "                            shuffle=False,\n",
    "                            preprocess_func=preproc)\n",
    "Y_test = test_generator.get_labels()\n",
    "\n",
    "st_deep_preds_6 = {\n",
    "    'y': Y_test\n",
    "}"
   ]
  },
  {
   "cell_type": "code",
   "execution_count": 9,
   "metadata": {},
   "outputs": [
    {
     "name": "stderr",
     "output_type": "stream",
     "text": [
      "/usr/local/lib/python3.6/dist-packages/tensorflow/python/keras/engine/training.py:1905: UserWarning: `Model.predict_generator` is deprecated and will be removed in a future version. Please use `Model.predict`, which supports generators.\n",
      "  warnings.warn('`Model.predict_generator` is deprecated and '\n"
     ]
    },
    {
     "name": "stdout",
     "output_type": "stream",
     "text": [
      "WARNING:tensorflow:multiprocessing can interact badly with TensorFlow, causing nondeterministic deadlocks. For high performance data pipelines tf.data is recommended.\n",
      "140/140 [==============================] - 12s 68ms/step\n",
      "WARNING:tensorflow:Layer lstm will not use cuDNN kernel since it doesn't meet the cuDNN kernel criteria. It will use generic GPU kernel as fallback when running on GPU\n",
      "WARNING:tensorflow:Layer lstm will not use cuDNN kernel since it doesn't meet the cuDNN kernel criteria. It will use generic GPU kernel as fallback when running on GPU\n",
      "WARNING:tensorflow:Layer lstm will not use cuDNN kernel since it doesn't meet the cuDNN kernel criteria. It will use generic GPU kernel as fallback when running on GPU\n",
      "WARNING:tensorflow:multiprocessing can interact badly with TensorFlow, causing nondeterministic deadlocks. For high performance data pipelines tf.data is recommended.\n",
      "140/140 [==============================] - 10s 69ms/step\n"
     ]
    }
   ],
   "source": [
    "# CNN model\n",
    "cnn6m = load_model('models/6m ST/CNN.hdf5',\n",
    "                    custom_objects={'f1': f1})\n",
    "yt_pred = cnn6m.predict_generator(test_generator,\n",
    "                                  workers=4,\n",
    "                                  use_multiprocessing=True,\n",
    "                                  verbose=1)\n",
    "thresh = 0.5\n",
    "yt_pred_bin = np.where(yt_pred > thresh, 1, 0)\n",
    "st_deep_preds_6['CNN-qtr'] = {\n",
    "        'pred': yt_pred_bin,\n",
    "        'pred_proba': yt_pred\n",
    "    }\n",
    "del cnn6m\n",
    "\n",
    "# LSTM model\n",
    "lstm6m = load_model('models/6m ST/BLSTM.hdf5',\n",
    "                    custom_objects={'f1': f1})\n",
    "yt_pred = lstm6m.predict_generator(test_generator,\n",
    "                                  workers=4,\n",
    "                                  use_multiprocessing=True,\n",
    "                                  verbose=1)\n",
    "thresh = 0.5\n",
    "yt_pred_bin = np.where(yt_pred > thresh, 1, 0)\n",
    "st_deep_preds_6['BLSTM-qtr'] = {\n",
    "        'pred': yt_pred_bin,\n",
    "        'pred_proba': yt_pred\n",
    "    }\n",
    "del lstm6m"
   ]
  },
  {
   "cell_type": "code",
   "execution_count": 10,
   "metadata": {},
   "outputs": [
    {
     "data": {
      "text/plain": [
       "['st_deep_predictions_6m.joblib']"
      ]
     },
     "execution_count": 10,
     "metadata": {},
     "output_type": "execute_result"
    }
   ],
   "source": [
    "dump(st_deep_preds_6, 'st_deep_predictions_6m.joblib')"
   ]
  },
  {
   "cell_type": "markdown",
   "metadata": {},
   "source": [
    "## 12 months"
   ]
  },
  {
   "cell_type": "markdown",
   "metadata": {},
   "source": [
    "### Deep learning models"
   ]
  },
  {
   "cell_type": "code",
   "execution_count": 11,
   "metadata": {
    "ExecuteTime": {
     "end_time": "2021-03-20T13:33:29.380333Z",
     "start_time": "2021-03-20T13:33:18.783897Z"
    }
   },
   "outputs": [
    {
     "name": "stderr",
     "output_type": "stream",
     "text": [
      "/usr/local/lib/python3.6/dist-packages/ipykernel_launcher.py:21: FutureWarning: Sorting because non-concatenation axis is not aligned. A future version\n",
      "of pandas will change to not sort by default.\n",
      "\n",
      "To accept the future behavior, pass 'sort=False'.\n",
      "\n",
      "To retain the current behavior and silence the warning, pass 'sort=True'.\n",
      "\n",
      "Loading sparse dataset: 100%|██████████| 17856/17856 [00:00<00:00, 512800.53it/s]\n"
     ]
    }
   ],
   "source": [
    "with open('data/12 month/diag_dict.pkl', 'rb') as f:\n",
    "  diag = pickle.load(f)\n",
    "  diag_ids = list(diag.keys())\n",
    "\n",
    "with open('data/12 month/drug_dict.pkl', 'rb') as f:\n",
    "  drug = pickle.load(f)\n",
    "  drug_ids = list(drug.keys())\n",
    "    \n",
    "# get list of ids to use\n",
    "data_dir = \"data/\"\n",
    "\n",
    "case = pd.read_feather(data_dir + '/case_age_sex.feather')\n",
    "control = pd.read_feather(data_dir + '/control_age_sex.feather')\n",
    "\n",
    "# remove age outliers\n",
    "case = case.loc[case['age'] < 100]\n",
    "control = control.loc[control['age'] < 100]\n",
    "\n",
    "case['label'] = 1\n",
    "control['label'] = 0\n",
    "data = pd.concat([case, control])\n",
    "data = data[data['sex'] != 'U']\n",
    "\n",
    "info_ids = set(case.id).union(set(control.id))\n",
    "list_ids = sorted(list(set(diag_ids) & set(drug_ids) & set(info_ids)))\n",
    "data = data.loc[data['id'].isin(list_ids)]\n",
    "\n",
    "# train test split\n",
    "train_ids, test_ids = train_test_split(data[['id', 'label']],\n",
    "                                       test_size=0.2,\n",
    "                                       shuffle=True,\n",
    "                                       stratify=data['label'],\n",
    "                                       random_state=SEED)\n",
    "train_ids, val_ids = train_test_split(train_ids,\n",
    "                                       test_size=0.2,\n",
    "                                       shuffle=True,\n",
    "                                       stratify=train_ids['label'],\n",
    "                                       random_state=SEED)\n",
    "\n",
    "train_ids = train_ids['id'].tolist()\n",
    "val_ids = val_ids['id'].tolist()\n",
    "test_ids = test_ids['id'].tolist()\n",
    "\n",
    "\n",
    "def preproc(X, X_, y):    \n",
    "    \n",
    "    if X.shape[-1] > 965:\n",
    "        X = np.delete(X, [[16, 470, 1063, 1231, 1245]], axis=-1)  # extra & id col in drug\n",
    "        \n",
    "    return X, X_, y\n",
    "\n",
    "test_generator = DataLoader(test_ids,\n",
    "                            data_dir,\n",
    "                            '12 month',\n",
    "                            batch_size=128,\n",
    "                            include_drug=True,\n",
    "                            shuffle=False,\n",
    "                            preprocess_func=preproc)\n",
    "Y_test = test_generator.get_labels()\n",
    "\n",
    "deep_preds_12 = {\n",
    "    'y': Y_test\n",
    "}"
   ]
  },
  {
   "cell_type": "code",
   "execution_count": null,
   "metadata": {
    "ExecuteTime": {
     "end_time": "2021-03-20T13:34:31.120162Z",
     "start_time": "2021-03-20T13:33:29.382165Z"
    }
   },
   "outputs": [],
   "source": [
    "# CNN model\n",
    "cnn12m = load_model('models/12m TS/CNN.hdf5',\n",
    "                    custom_objects={'f1': f1})\n",
    "yt_pred = cnn12m.predict_generator(test_generator,\n",
    "                                  workers=4,\n",
    "                                  use_multiprocessing=True,\n",
    "                                  verbose=1)\n",
    "thresh = 0.5\n",
    "yt_pred_bin = np.where(yt_pred > thresh, 1, 0)\n",
    "deep_preds_12['CNN'] = {\n",
    "        'pred': yt_pred_bin,\n",
    "        'pred_proba': yt_pred\n",
    "    }\n",
    "del cnn12m\n",
    "\n",
    "# LSTM model\n",
    "lstm12m = load_model('models/12m TS/BLSTM.hdf5',\n",
    "                    custom_objects={'f1': f1})\n",
    "yt_pred = lstm12m.predict_generator(test_generator,\n",
    "                                  workers=4,\n",
    "                                  use_multiprocessing=True,\n",
    "                                  verbose=1)\n",
    "thresh = 0.5\n",
    "yt_pred_bin = np.where(yt_pred > thresh, 1, 0)\n",
    "deep_preds_12['BLSTM'] = {\n",
    "        'pred': yt_pred_bin,\n",
    "        'pred_proba': yt_pred\n",
    "    }\n",
    "del lstm12m"
   ]
  },
  {
   "cell_type": "code",
   "execution_count": null,
   "metadata": {
    "ExecuteTime": {
     "end_time": "2021-03-20T13:34:31.395933Z",
     "start_time": "2021-03-20T13:34:31.123014Z"
    }
   },
   "outputs": [],
   "source": [
    "dump(deep_preds_12, 'deep_predictions_12m.joblib')"
   ]
  },
  {
   "cell_type": "markdown",
   "metadata": {},
   "source": [
    "### Semi-temporal methods"
   ]
  },
  {
   "cell_type": "code",
   "execution_count": null,
   "metadata": {
    "ExecuteTime": {
     "end_time": "2021-03-20T13:34:32.908063Z",
     "start_time": "2021-03-20T13:34:31.402107Z"
    }
   },
   "outputs": [],
   "source": [
    "models12_path = 'models/12m ST/'\n",
    "\n",
    "models_12 = {\n",
    "    'temp-lightgbm': load(models12_path + '12m_ST_LGBMClassifier.joblib'),\n",
    "    'temp-decisiontree': load(models12_path + '12m_ST_DecisionTreeClassifier.joblib'),\n",
    "    'temp-randomforest': load(models12_path + '12m_ST_RandomForestClassifier.joblib'),\n",
    "    'temp-logistic': load(models12_path + '12m_ST_LogisticRegression.joblib')\n",
    "}\n"
   ]
  },
  {
   "cell_type": "markdown",
   "metadata": {},
   "source": [
    "Apply the preprocessing"
   ]
  },
  {
   "cell_type": "code",
   "execution_count": null,
   "metadata": {
    "ExecuteTime": {
     "end_time": "2021-03-20T13:34:39.081606Z",
     "start_time": "2021-03-20T13:34:32.915306Z"
    }
   },
   "outputs": [],
   "source": [
    "data = data.set_index('id')\n",
    "# encode sex\n",
    "data.loc[data['sex'] == 'M', 'sex'] = 1\n",
    "data.loc[data['sex'] == 'F', 'sex'] = 0\n",
    "\n",
    "feat_mask_file = 'data/12 month/12m_top_100_features_mask.joblib'\n",
    "features_mask = joblib.load(feat_mask_file)\n",
    "\n",
    "def preproc(X):\n",
    "    if X.shape[-1] < 965:\n",
    "        X = np.delete(X, [[1063-965, 1231-965, 1245-965]], axis=-1)  # extra & id col in drug\n",
    "        X = X[:,features_mask[965:]]\n",
    "    else:\n",
    "        X = np.delete(X, [[16, 470]], axis=-1)  # extra & id col in drug\n",
    "        X = X[:,features_mask[:965]]\n",
    "\n",
    "    return X\n",
    "\n",
    "def group_sum(arr):\n",
    "    return np.add.reduceat(arr, indices=np.arange(2, 24, 3), axis=0)\n",
    "\n",
    "def get_array(arr):\n",
    "    # get sparse array as input and return preprocessed numpy array\n",
    "    return group_sum(preproc(arr.toarray())).ravel()\n",
    "    \n",
    "def stack_arrays(list_ids):\n",
    "    \"\"\"\n",
    "    Takes a list of ids and returns a numpy array with input values \n",
    "    and the target variable in an array\n",
    "    \"\"\"\n",
    "    diag_arr = np.vstack([get_array(diag[id]) for id in list_ids])\n",
    "    drug_arr = np.vstack([get_array(drug[id]) for id in list_ids])\n",
    "    age_sex = data.loc[list_ids, ['age', 'sex']].values\n",
    "    X = np.hstack([diag_arr, drug_arr, age_sex])\n",
    "\n",
    "    y = data.loc[list_ids, 'label'].values\n",
    "    return X, y\n",
    "    \n",
    "    \n",
    "X_test, y_test = stack_arrays(test_ids)"
   ]
  },
  {
   "cell_type": "markdown",
   "metadata": {},
   "source": [
    "Get predictions for each model"
   ]
  },
  {
   "cell_type": "code",
   "execution_count": null,
   "metadata": {
    "ExecuteTime": {
     "end_time": "2021-03-20T13:34:45.628253Z",
     "start_time": "2021-03-20T13:34:39.084274Z"
    }
   },
   "outputs": [],
   "source": [
    "st_preds_12 = {\n",
    "    'y': y_test\n",
    "}\n",
    "\n",
    "for algoname, model in tqdm(models_12.items()):\n",
    "    y_pred = model.predict(X_test)\n",
    "    y_pred_proba = model.predict_proba(X_test)[:,1]\n",
    "    \n",
    "    st_preds_12[algoname] = {\n",
    "        'pred': y_pred,\n",
    "        'pred_proba': y_pred_proba\n",
    "    }"
   ]
  },
  {
   "cell_type": "markdown",
   "metadata": {},
   "source": [
    "Cleanup"
   ]
  },
  {
   "cell_type": "code",
   "execution_count": null,
   "metadata": {
    "ExecuteTime": {
     "end_time": "2021-03-20T13:34:46.133080Z",
     "start_time": "2021-03-20T13:34:45.631341Z"
    }
   },
   "outputs": [],
   "source": [
    "del X_test, y_test, diag, drug"
   ]
  },
  {
   "cell_type": "markdown",
   "metadata": {},
   "source": [
    "Save predictions"
   ]
  },
  {
   "cell_type": "code",
   "execution_count": null,
   "metadata": {
    "ExecuteTime": {
     "end_time": "2021-03-20T13:34:46.292694Z",
     "start_time": "2021-03-20T13:34:46.136538Z"
    }
   },
   "outputs": [],
   "source": [
    "dump(st_preds_12, 'st_predictions_12m.joblib')"
   ]
  },
  {
   "cell_type": "markdown",
   "metadata": {},
   "source": [
    "#### Deep semi-temporal"
   ]
  },
  {
   "cell_type": "code",
   "execution_count": 12,
   "metadata": {
    "scrolled": true
   },
   "outputs": [
    {
     "name": "stderr",
     "output_type": "stream",
     "text": [
      "Loading sparse dataset: 100%|██████████| 17856/17856 [00:00<00:00, 500163.57it/s]\n"
     ]
    }
   ],
   "source": [
    "feat_mask_file = 'data/12 month/12m_top_100_features_mask.joblib'\n",
    "features_mask = load(feat_mask_file)\n",
    "\n",
    "\n",
    "def group_sum(arr):\n",
    "    return np.add.reduceat(arr, indices=np.arange(2, 24, 3), axis=1)\n",
    "\n",
    "\n",
    "def preproc(X, X_, y):\n",
    "    if X.shape[-1] > 965:\n",
    "        X = np.delete(X, [[16, 470, 1063, 1231, 1245]], axis=-1)  # extra & id col in drug\n",
    "        \n",
    "    # feature selection\n",
    "    X = X[:,:,features_mask]\n",
    "\n",
    "    # group quarterly\n",
    "    X = group_sum(X)\n",
    "    \n",
    "    return X, X_, y\n",
    "\n",
    "test_generator = DataLoader(test_ids,\n",
    "                            data_dir,\n",
    "                            '/12 month',\n",
    "                            batch_size=128,\n",
    "                            include_drug=True,\n",
    "                            shuffle=False,\n",
    "                            preprocess_func=preproc)\n",
    "Y_test = test_generator.get_labels()\n",
    "\n",
    "st_deep_preds_12 = {\n",
    "    'y': Y_test\n",
    "}"
   ]
  },
  {
   "cell_type": "code",
   "execution_count": 13,
   "metadata": {},
   "outputs": [
    {
     "name": "stderr",
     "output_type": "stream",
     "text": [
      "/usr/local/lib/python3.6/dist-packages/tensorflow/python/keras/engine/training.py:1905: UserWarning: `Model.predict_generator` is deprecated and will be removed in a future version. Please use `Model.predict`, which supports generators.\n",
      "  warnings.warn('`Model.predict_generator` is deprecated and '\n"
     ]
    },
    {
     "name": "stdout",
     "output_type": "stream",
     "text": [
      "WARNING:tensorflow:multiprocessing can interact badly with TensorFlow, causing nondeterministic deadlocks. For high performance data pipelines tf.data is recommended.\n",
      "139/139 [==============================] - 10s 69ms/step\n",
      "WARNING:tensorflow:Layer lstm will not use cuDNN kernel since it doesn't meet the cuDNN kernel criteria. It will use generic GPU kernel as fallback when running on GPU\n",
      "WARNING:tensorflow:Layer lstm will not use cuDNN kernel since it doesn't meet the cuDNN kernel criteria. It will use generic GPU kernel as fallback when running on GPU\n",
      "WARNING:tensorflow:Layer lstm will not use cuDNN kernel since it doesn't meet the cuDNN kernel criteria. It will use generic GPU kernel as fallback when running on GPU\n",
      "WARNING:tensorflow:multiprocessing can interact badly with TensorFlow, causing nondeterministic deadlocks. For high performance data pipelines tf.data is recommended.\n",
      "139/139 [==============================] - 11s 72ms/step\n"
     ]
    }
   ],
   "source": [
    "# CNN model\n",
    "cnn12m = load_model('models/12m ST/CNN.hdf5',\n",
    "                    custom_objects={'f1': f1})\n",
    "yt_pred = cnn12m.predict_generator(test_generator,\n",
    "                                  workers=4,\n",
    "                                  use_multiprocessing=True,\n",
    "                                  verbose=1)\n",
    "thresh = 0.5\n",
    "yt_pred_bin = np.where(yt_pred > thresh, 1, 0)\n",
    "st_deep_preds_12['CNN-qtr'] = {\n",
    "        'pred': yt_pred_bin,\n",
    "        'pred_proba': yt_pred\n",
    "    }\n",
    "del cnn12m\n",
    "\n",
    "# LSTM model\n",
    "lstm12m = load_model('models/12m ST/BLSTM.hdf5',\n",
    "                    custom_objects={'f1': f1})\n",
    "yt_pred = lstm12m.predict_generator(test_generator,\n",
    "                                  workers=4,\n",
    "                                  use_multiprocessing=True,\n",
    "                                  verbose=1)\n",
    "thresh = 0.5\n",
    "yt_pred_bin = np.where(yt_pred > thresh, 1, 0)\n",
    "st_deep_preds_12['BLSTM-qtr'] = {\n",
    "        'pred': yt_pred_bin,\n",
    "        'pred_proba': yt_pred\n",
    "    }\n",
    "del lstm12m"
   ]
  },
  {
   "cell_type": "code",
   "execution_count": 14,
   "metadata": {},
   "outputs": [
    {
     "data": {
      "text/plain": [
       "['st_deep_predictions_12m.joblib']"
      ]
     },
     "execution_count": 14,
     "metadata": {},
     "output_type": "execute_result"
    }
   ],
   "source": [
    "dump(st_deep_preds_12, 'st_deep_predictions_12m.joblib')"
   ]
  },
  {
   "cell_type": "markdown",
   "metadata": {},
   "source": [
    "# Group results together\n",
    "\n",
    "Results for semi-temporal models are not available here."
   ]
  },
  {
   "cell_type": "code",
   "execution_count": 56,
   "metadata": {
    "ExecuteTime": {
     "end_time": "2021-03-20T13:34:46.617113Z",
     "start_time": "2021-03-20T13:34:46.562683Z"
    }
   },
   "outputs": [],
   "source": [
    "prediction_dir = 'predictions/'\n",
    "preds_6 = load(prediction_dir + 'predictions_6m.joblib')\n",
    "preds_12 = load(prediction_dir + 'predictions_12m.joblib')\n",
    "\n",
    "st_preds_6 = load(prediction_dir + 'st_predictions_6m.joblib')\n",
    "st_preds_12 = load(prediction_dir + 'st_predictions_12m.joblib')\n",
    "\n",
    "deep_st_preds_6 = load(prediction_dir + 'st_deep_predictions_6m.joblib')\n",
    "deep_st_preds_12 = load(prediction_dir + 'st_deep_predictions_12m.joblib')\n",
    "\n",
    "deep_preds_6 = load(prediction_dir + 'deep_predictions_6m.joblib')\n",
    "deep_preds_12 = load(prediction_dir + 'deep_predictions_12m.joblib')"
   ]
  },
  {
   "cell_type": "markdown",
   "metadata": {},
   "source": [
    "### Identify probability thresholds for all the algorithms\n",
    "\n",
    "Identify the threshold and update the predictions based on it."
   ]
  },
  {
   "cell_type": "code",
   "execution_count": 57,
   "metadata": {
    "ExecuteTime": {
     "end_time": "2021-03-20T13:34:46.873023Z",
     "start_time": "2021-03-20T13:34:46.618773Z"
    }
   },
   "outputs": [],
   "source": [
    "def youden_index(y, pred_proba):\n",
    "    fpr, tpr, thresh = roc_curve(y, pred_proba)\n",
    "    optimal_idx = np.argmax(tpr - fpr)\n",
    "    optimal_threshold = thresh[optimal_idx]\n",
    "    return optimal_threshold\n",
    "\n",
    "# aggregated \n",
    "\n",
    "for algo, preds in preds_6.items():\n",
    "    if algo == 'y':\n",
    "        continue\n",
    "    threshold = youden_index(preds_6['y'], preds['pred_proba'])\n",
    "    preds['threshold'] = threshold\n",
    "    preds['pred'] = preds['pred_proba'] >= threshold\n",
    "\n",
    "for algo, preds in preds_12.items():\n",
    "    if algo == 'y':\n",
    "        continue\n",
    "    threshold = youden_index(preds_12['y'], preds['pred_proba'])\n",
    "    preds['threshold'] = threshold\n",
    "    preds['pred'] = preds['pred_proba'] >= threshold\n",
    "    \n",
    "# deep learning\n",
    "    \n",
    "for algo, preds in deep_preds_6.items():\n",
    "    if algo == 'y':\n",
    "        continue\n",
    "    threshold = youden_index(deep_preds_6['y'], preds['pred_proba'])\n",
    "    preds['threshold'] = threshold\n",
    "    preds['pred'] = preds['pred_proba'] >= threshold\n",
    "\n",
    "for algo, preds in deep_preds_12.items():\n",
    "    if algo == 'y':\n",
    "        continue\n",
    "    threshold = youden_index(deep_preds_12['y'], preds['pred_proba'])\n",
    "    preds['threshold'] = threshold\n",
    "    preds['pred'] = preds['pred_proba'] >= threshold\n",
    "    \n",
    "# semi-temporal\n",
    "    \n",
    "for algo, preds in st_preds_6.items():\n",
    "    if algo == 'y':\n",
    "        continue\n",
    "    threshold = youden_index(st_preds_6['y'], preds['pred_proba'])\n",
    "    preds['threshold'] = threshold\n",
    "    preds['pred'] = preds['pred_proba'] >= threshold\n",
    "\n",
    "for algo, preds in st_preds_12.items():\n",
    "    if algo == 'y':\n",
    "        continue\n",
    "    threshold = youden_index(st_preds_12['y'], preds['pred_proba'])\n",
    "    preds['threshold'] = threshold\n",
    "    preds['pred'] = preds['pred_proba'] >= threshold\n",
    "    \n",
    "## deep semi-temporal\n",
    "\n",
    "for algo, preds in deep_st_preds_6.items():\n",
    "    if algo == 'y':\n",
    "        continue\n",
    "    threshold = youden_index(deep_st_preds_6['y'], preds['pred_proba'])\n",
    "    preds['threshold'] = threshold\n",
    "    preds['pred'] = preds['pred_proba'] >= threshold\n",
    "\n",
    "for algo, preds in deep_st_preds_12.items():\n",
    "    if algo == 'y':\n",
    "        continue\n",
    "    threshold = youden_index(deep_st_preds_12['y'], preds['pred_proba'])\n",
    "    preds['threshold'] = threshold\n",
    "    preds['pred'] = preds['pred_proba'] >= threshold\n"
   ]
  },
  {
   "cell_type": "code",
   "execution_count": null,
   "metadata": {},
   "outputs": [],
   "source": [
    "deep"
   ]
  },
  {
   "cell_type": "markdown",
   "metadata": {},
   "source": [
    "### Get different metrics"
   ]
  },
  {
   "cell_type": "code",
   "execution_count": 44,
   "metadata": {
    "ExecuteTime": {
     "end_time": "2021-03-20T13:34:46.877970Z",
     "start_time": "2021-03-20T13:34:46.874806Z"
    }
   },
   "outputs": [],
   "source": [
    "def specificity(y_truth, y_pred):\n",
    "    tn, fp, fn, tp = confusion_matrix(y_truth, y_pred).ravel()\n",
    "    \n",
    "    specificity = tn / (tn+fp)\n",
    "    return specificity"
   ]
  },
  {
   "cell_type": "code",
   "execution_count": 58,
   "metadata": {
    "ExecuteTime": {
     "end_time": "2021-03-20T13:34:48.728059Z",
     "start_time": "2021-03-20T13:34:46.959120Z"
    }
   },
   "outputs": [],
   "source": [
    "metrics_6_list = []\n",
    "# ml models\n",
    "y_truth = preds_6['y']\n",
    "for algo, preds in preds_6.items():\n",
    "    if algo == 'y':\n",
    "        continue\n",
    "        \n",
    "    y_pred = preds['pred']\n",
    "    y_pred_proba = preds['pred_proba']\n",
    "    \n",
    "    acc = accuracy_score(y_truth, y_pred)\n",
    "    f1 = f1_score(y_truth, y_pred)\n",
    "    prec = precision_score(y_truth, y_pred)\n",
    "    rec = recall_score(y_truth, y_pred)\n",
    "    spec = specificity(y_truth, y_pred)\n",
    "    roc = roc_auc_score(y_truth, y_pred_proba)\n",
    "    \n",
    "    row = [algo, acc, f1, prec, rec, spec, roc]\n",
    "    metrics_6_list.append(row)\n",
    "    \n",
    "# semi-temporal models\n",
    "y_truth = st_preds_6['y']\n",
    "for algo, preds in st_preds_6.items():\n",
    "    if algo == 'y':\n",
    "        continue\n",
    "        \n",
    "    y_pred = preds['pred']\n",
    "    y_pred_proba = preds['pred_proba']\n",
    "    \n",
    "    acc = accuracy_score(y_truth, y_pred)\n",
    "    f1 = f1_score(y_truth, y_pred)\n",
    "    prec = precision_score(y_truth, y_pred)\n",
    "    rec = recall_score(y_truth, y_pred)\n",
    "    spec = specificity(y_truth, y_pred)\n",
    "    roc = roc_auc_score(y_truth, y_pred_proba)\n",
    "    \n",
    "    row = [algo, acc, f1, prec, rec, spec, roc]\n",
    "    metrics_6_list.append(row)\n",
    "    \n",
    "# deep st model\n",
    "y_truth = deep_st_preds_6['y']\n",
    "for algo, preds in deep_st_preds_6.items():\n",
    "    if algo == 'y':\n",
    "        continue\n",
    "        \n",
    "    y_pred = preds['pred']\n",
    "    y_pred_proba = preds['pred_proba']\n",
    "    \n",
    "    acc = accuracy_score(y_truth, y_pred)\n",
    "    f1 = f1_score(y_truth, y_pred)\n",
    "    prec = precision_score(y_truth, y_pred)\n",
    "    rec = recall_score(y_truth, y_pred)\n",
    "    spec = specificity(y_truth, y_pred)\n",
    "    roc = roc_auc_score(y_truth, y_pred_proba)\n",
    "    \n",
    "    row = [algo, acc, f1, prec, rec, spec, roc]\n",
    "    metrics_6_list.append(row)\n",
    "    \n",
    "# dl model\n",
    "y_truth = deep_preds_6['y']\n",
    "for algo, preds in deep_preds_6.items():\n",
    "    if algo == 'y':\n",
    "        continue\n",
    "        \n",
    "    y_pred = preds['pred']\n",
    "    y_pred_proba = preds['pred_proba']\n",
    "    \n",
    "    acc = accuracy_score(y_truth, y_pred)\n",
    "    f1 = f1_score(y_truth, y_pred)\n",
    "    prec = precision_score(y_truth, y_pred)\n",
    "    rec = recall_score(y_truth, y_pred)\n",
    "    spec = specificity(y_truth, y_pred)\n",
    "    roc = roc_auc_score(y_truth, y_pred_proba)\n",
    "    \n",
    "    row = [algo, acc, f1, prec, rec, spec, roc]\n",
    "    metrics_6_list.append(row)\n",
    "\n",
    "# ml models\n",
    "metrics_12_list = []\n",
    "y_truth = preds_12['y']\n",
    "for algo, preds in preds_12.items():\n",
    "    if algo == 'y':\n",
    "        continue\n",
    "        \n",
    "    y_pred = preds['pred']\n",
    "    y_pred_proba = preds['pred_proba']\n",
    "    \n",
    "    acc = accuracy_score(y_truth, y_pred)\n",
    "    f1 = f1_score(y_truth, y_pred)\n",
    "    prec = precision_score(y_truth, y_pred)\n",
    "    rec = recall_score(y_truth, y_pred)\n",
    "    spec = specificity(y_truth, y_pred)\n",
    "    roc = roc_auc_score(y_truth, y_pred_proba)\n",
    "    \n",
    "    row = [algo, acc, f1, prec, rec, spec, roc]\n",
    "    metrics_12_list.append(row)\n",
    "    \n",
    "# semi-temporal models\n",
    "y_truth = st_preds_12['y']\n",
    "for algo, preds in st_preds_12.items():\n",
    "    if algo == 'y':\n",
    "        continue\n",
    "        \n",
    "    y_pred = preds['pred']\n",
    "    y_pred_proba = preds['pred_proba']\n",
    "    \n",
    "    acc = accuracy_score(y_truth, y_pred)\n",
    "    f1 = f1_score(y_truth, y_pred)\n",
    "    prec = precision_score(y_truth, y_pred)\n",
    "    rec = recall_score(y_truth, y_pred)\n",
    "    spec = specificity(y_truth, y_pred)\n",
    "    roc = roc_auc_score(y_truth, y_pred_proba)\n",
    "    \n",
    "    row = [algo, acc, f1, prec, rec, spec, roc]\n",
    "    metrics_12_list.append(row)\n",
    "    \n",
    "# deep st model\n",
    "y_truth = deep_st_preds_12['y']\n",
    "for algo, preds in deep_st_preds_12.items():\n",
    "    if algo == 'y':\n",
    "        continue\n",
    "        \n",
    "    y_pred = preds['pred']\n",
    "    y_pred_proba = preds['pred_proba']\n",
    "    \n",
    "    acc = accuracy_score(y_truth, y_pred)\n",
    "    f1 = f1_score(y_truth, y_pred)\n",
    "    prec = precision_score(y_truth, y_pred)\n",
    "    rec = recall_score(y_truth, y_pred)\n",
    "    spec = specificity(y_truth, y_pred)\n",
    "    roc = roc_auc_score(y_truth, y_pred_proba)\n",
    "    \n",
    "    row = [algo, acc, f1, prec, rec, spec, roc]\n",
    "    metrics_12_list.append(row)    \n",
    "    \n",
    "# dl model\n",
    "y_truth = deep_preds_12['y']\n",
    "for algo, preds in deep_preds_12.items():\n",
    "    if algo == 'y':\n",
    "        continue\n",
    "        \n",
    "    y_pred = preds['pred']\n",
    "    y_pred_proba = preds['pred_proba']\n",
    "    \n",
    "    acc = accuracy_score(y_truth, y_pred)\n",
    "    f1 = f1_score(y_truth, y_pred)\n",
    "    prec = precision_score(y_truth, y_pred)\n",
    "    rec = recall_score(y_truth, y_pred)\n",
    "    spec = specificity(y_truth, y_pred)\n",
    "    roc = roc_auc_score(y_truth, y_pred_proba)\n",
    "    \n",
    "    row = [algo, acc, f1, prec, rec, spec, roc]\n",
    "    metrics_12_list.append(row)"
   ]
  },
  {
   "cell_type": "code",
   "execution_count": 59,
   "metadata": {
    "ExecuteTime": {
     "end_time": "2021-03-20T13:34:48.778966Z",
     "start_time": "2021-03-20T13:34:48.730035Z"
    }
   },
   "outputs": [],
   "source": [
    "cols = ['Algo', 'Accuracy', 'F1', 'Precision', 'Recall', 'Specificiy', 'ROC_AUC']\n",
    "metrics_6 = pd.DataFrame(metrics_6_list, columns=cols)\n",
    "metrics_12 = pd.DataFrame(metrics_12_list, columns=cols)"
   ]
  },
  {
   "cell_type": "code",
   "execution_count": 60,
   "metadata": {
    "ExecuteTime": {
     "end_time": "2021-03-20T13:34:48.900135Z",
     "start_time": "2021-03-20T13:34:48.784548Z"
    },
    "scrolled": false
   },
   "outputs": [
    {
     "data": {
      "text/html": [
       "<div>\n",
       "<style scoped>\n",
       "    .dataframe tbody tr th:only-of-type {\n",
       "        vertical-align: middle;\n",
       "    }\n",
       "\n",
       "    .dataframe tbody tr th {\n",
       "        vertical-align: top;\n",
       "    }\n",
       "\n",
       "    .dataframe thead th {\n",
       "        text-align: right;\n",
       "    }\n",
       "</style>\n",
       "<table border=\"1\" class=\"dataframe\">\n",
       "  <thead>\n",
       "    <tr style=\"text-align: right;\">\n",
       "      <th></th>\n",
       "      <th>Algo</th>\n",
       "      <th>Accuracy</th>\n",
       "      <th>F1</th>\n",
       "      <th>Precision</th>\n",
       "      <th>Recall</th>\n",
       "      <th>Specificiy</th>\n",
       "      <th>ROC_AUC</th>\n",
       "    </tr>\n",
       "  </thead>\n",
       "  <tbody>\n",
       "    <tr>\n",
       "      <th>5</th>\n",
       "      <td>temp-decisiontree</td>\n",
       "      <td>0.75019</td>\n",
       "      <td>0.47168</td>\n",
       "      <td>0.41026</td>\n",
       "      <td>0.55473</td>\n",
       "      <td>0.79937</td>\n",
       "      <td>0.73157</td>\n",
       "    </tr>\n",
       "    <tr>\n",
       "      <th>1</th>\n",
       "      <td>decisiontree</td>\n",
       "      <td>0.73215</td>\n",
       "      <td>0.48374</td>\n",
       "      <td>0.39547</td>\n",
       "      <td>0.62272</td>\n",
       "      <td>0.75977</td>\n",
       "      <td>0.74543</td>\n",
       "    </tr>\n",
       "    <tr>\n",
       "      <th>7</th>\n",
       "      <td>temp-logistic</td>\n",
       "      <td>0.71025</td>\n",
       "      <td>0.47551</td>\n",
       "      <td>0.37375</td>\n",
       "      <td>0.65340</td>\n",
       "      <td>0.72455</td>\n",
       "      <td>0.74822</td>\n",
       "    </tr>\n",
       "    <tr>\n",
       "      <th>2</th>\n",
       "      <td>randomforest</td>\n",
       "      <td>0.72508</td>\n",
       "      <td>0.48871</td>\n",
       "      <td>0.39082</td>\n",
       "      <td>0.65202</td>\n",
       "      <td>0.74351</td>\n",
       "      <td>0.76196</td>\n",
       "    </tr>\n",
       "    <tr>\n",
       "      <th>6</th>\n",
       "      <td>temp-randomforest</td>\n",
       "      <td>0.73792</td>\n",
       "      <td>0.50100</td>\n",
       "      <td>0.40583</td>\n",
       "      <td>0.65451</td>\n",
       "      <td>0.75890</td>\n",
       "      <td>0.77299</td>\n",
       "    </tr>\n",
       "    <tr>\n",
       "      <th>3</th>\n",
       "      <td>logistic</td>\n",
       "      <td>0.73616</td>\n",
       "      <td>0.50362</td>\n",
       "      <td>0.40557</td>\n",
       "      <td>0.66418</td>\n",
       "      <td>0.75432</td>\n",
       "      <td>0.77609</td>\n",
       "    </tr>\n",
       "    <tr>\n",
       "      <th>0</th>\n",
       "      <td>lightgbm</td>\n",
       "      <td>0.75070</td>\n",
       "      <td>0.52565</td>\n",
       "      <td>0.42626</td>\n",
       "      <td>0.68546</td>\n",
       "      <td>0.76716</td>\n",
       "      <td>0.79936</td>\n",
       "    </tr>\n",
       "    <tr>\n",
       "      <th>4</th>\n",
       "      <td>temp-lightgbm</td>\n",
       "      <td>0.80192</td>\n",
       "      <td>0.58857</td>\n",
       "      <td>0.50525</td>\n",
       "      <td>0.70481</td>\n",
       "      <td>0.82636</td>\n",
       "      <td>0.84183</td>\n",
       "    </tr>\n",
       "    <tr>\n",
       "      <th>9</th>\n",
       "      <td>BLSTM-qtr</td>\n",
       "      <td>0.82042</td>\n",
       "      <td>0.61663</td>\n",
       "      <td>0.53950</td>\n",
       "      <td>0.71949</td>\n",
       "      <td>0.84577</td>\n",
       "      <td>0.86009</td>\n",
       "    </tr>\n",
       "    <tr>\n",
       "      <th>8</th>\n",
       "      <td>CNN-qtr</td>\n",
       "      <td>0.79330</td>\n",
       "      <td>0.60704</td>\n",
       "      <td>0.49082</td>\n",
       "      <td>0.79539</td>\n",
       "      <td>0.79278</td>\n",
       "      <td>0.87661</td>\n",
       "    </tr>\n",
       "    <tr>\n",
       "      <th>11</th>\n",
       "      <td>BLSTM</td>\n",
       "      <td>0.87093</td>\n",
       "      <td>0.73526</td>\n",
       "      <td>0.62490</td>\n",
       "      <td>0.89297</td>\n",
       "      <td>0.86539</td>\n",
       "      <td>0.93906</td>\n",
       "    </tr>\n",
       "    <tr>\n",
       "      <th>10</th>\n",
       "      <td>CNN</td>\n",
       "      <td>0.88973</td>\n",
       "      <td>0.77386</td>\n",
       "      <td>0.65765</td>\n",
       "      <td>0.93995</td>\n",
       "      <td>0.87712</td>\n",
       "      <td>0.95688</td>\n",
       "    </tr>\n",
       "  </tbody>\n",
       "</table>\n",
       "</div>"
      ],
      "text/plain": [
       "                 Algo  Accuracy      F1  Precision  Recall  Specificiy  \\\n",
       "5   temp-decisiontree   0.75019 0.47168    0.41026 0.55473     0.79937   \n",
       "1        decisiontree   0.73215 0.48374    0.39547 0.62272     0.75977   \n",
       "7       temp-logistic   0.71025 0.47551    0.37375 0.65340     0.72455   \n",
       "2        randomforest   0.72508 0.48871    0.39082 0.65202     0.74351   \n",
       "6   temp-randomforest   0.73792 0.50100    0.40583 0.65451     0.75890   \n",
       "3            logistic   0.73616 0.50362    0.40557 0.66418     0.75432   \n",
       "0            lightgbm   0.75070 0.52565    0.42626 0.68546     0.76716   \n",
       "4       temp-lightgbm   0.80192 0.58857    0.50525 0.70481     0.82636   \n",
       "9           BLSTM-qtr   0.82042 0.61663    0.53950 0.71949     0.84577   \n",
       "8             CNN-qtr   0.79330 0.60704    0.49082 0.79539     0.79278   \n",
       "11              BLSTM   0.87093 0.73526    0.62490 0.89297     0.86539   \n",
       "10                CNN   0.88973 0.77386    0.65765 0.93995     0.87712   \n",
       "\n",
       "    ROC_AUC  \n",
       "5   0.73157  \n",
       "1   0.74543  \n",
       "7   0.74822  \n",
       "2   0.76196  \n",
       "6   0.77299  \n",
       "3   0.77609  \n",
       "0   0.79936  \n",
       "4   0.84183  \n",
       "9   0.86009  \n",
       "8   0.87661  \n",
       "11  0.93906  \n",
       "10  0.95688  "
      ]
     },
     "execution_count": 60,
     "metadata": {},
     "output_type": "execute_result"
    }
   ],
   "source": [
    "metrics_6.sort_values('ROC_AUC')"
   ]
  },
  {
   "cell_type": "code",
   "execution_count": 61,
   "metadata": {
    "ExecuteTime": {
     "end_time": "2021-03-20T13:34:49.153789Z",
     "start_time": "2021-03-20T13:34:48.902171Z"
    },
    "scrolled": false
   },
   "outputs": [
    {
     "data": {
      "text/html": [
       "<div>\n",
       "<style scoped>\n",
       "    .dataframe tbody tr th:only-of-type {\n",
       "        vertical-align: middle;\n",
       "    }\n",
       "\n",
       "    .dataframe tbody tr th {\n",
       "        vertical-align: top;\n",
       "    }\n",
       "\n",
       "    .dataframe thead th {\n",
       "        text-align: right;\n",
       "    }\n",
       "</style>\n",
       "<table border=\"1\" class=\"dataframe\">\n",
       "  <thead>\n",
       "    <tr style=\"text-align: right;\">\n",
       "      <th></th>\n",
       "      <th>Algo</th>\n",
       "      <th>Accuracy</th>\n",
       "      <th>F1</th>\n",
       "      <th>Precision</th>\n",
       "      <th>Recall</th>\n",
       "      <th>Specificiy</th>\n",
       "      <th>ROC_AUC</th>\n",
       "    </tr>\n",
       "  </thead>\n",
       "  <tbody>\n",
       "    <tr>\n",
       "      <th>5</th>\n",
       "      <td>temp-decisiontree</td>\n",
       "      <td>0.74597</td>\n",
       "      <td>0.46547</td>\n",
       "      <td>0.40455</td>\n",
       "      <td>0.54800</td>\n",
       "      <td>0.79603</td>\n",
       "      <td>0.72135</td>\n",
       "    </tr>\n",
       "    <tr>\n",
       "      <th>1</th>\n",
       "      <td>decisiontree</td>\n",
       "      <td>0.73549</td>\n",
       "      <td>0.48053</td>\n",
       "      <td>0.39883</td>\n",
       "      <td>0.60433</td>\n",
       "      <td>0.76879</td>\n",
       "      <td>0.73642</td>\n",
       "    </tr>\n",
       "    <tr>\n",
       "      <th>7</th>\n",
       "      <td>temp-logistic</td>\n",
       "      <td>0.74188</td>\n",
       "      <td>0.48623</td>\n",
       "      <td>0.40637</td>\n",
       "      <td>0.60516</td>\n",
       "      <td>0.77645</td>\n",
       "      <td>0.74694</td>\n",
       "    </tr>\n",
       "    <tr>\n",
       "      <th>2</th>\n",
       "      <td>randomforest</td>\n",
       "      <td>0.74089</td>\n",
       "      <td>0.48739</td>\n",
       "      <td>0.40649</td>\n",
       "      <td>0.60849</td>\n",
       "      <td>0.77449</td>\n",
       "      <td>0.75595</td>\n",
       "    </tr>\n",
       "    <tr>\n",
       "      <th>6</th>\n",
       "      <td>temp-randomforest</td>\n",
       "      <td>0.74188</td>\n",
       "      <td>0.49524</td>\n",
       "      <td>0.40908</td>\n",
       "      <td>0.62736</td>\n",
       "      <td>0.77084</td>\n",
       "      <td>0.75801</td>\n",
       "    </tr>\n",
       "    <tr>\n",
       "      <th>3</th>\n",
       "      <td>logistic</td>\n",
       "      <td>0.72269</td>\n",
       "      <td>0.49108</td>\n",
       "      <td>0.39068</td>\n",
       "      <td>0.66093</td>\n",
       "      <td>0.73836</td>\n",
       "      <td>0.76628</td>\n",
       "    </tr>\n",
       "    <tr>\n",
       "      <th>0</th>\n",
       "      <td>lightgbm</td>\n",
       "      <td>0.75948</td>\n",
       "      <td>0.52422</td>\n",
       "      <td>0.43718</td>\n",
       "      <td>0.65455</td>\n",
       "      <td>0.78611</td>\n",
       "      <td>0.78912</td>\n",
       "    </tr>\n",
       "    <tr>\n",
       "      <th>4</th>\n",
       "      <td>temp-lightgbm</td>\n",
       "      <td>0.78623</td>\n",
       "      <td>0.57565</td>\n",
       "      <td>0.48024</td>\n",
       "      <td>0.71837</td>\n",
       "      <td>0.80340</td>\n",
       "      <td>0.83385</td>\n",
       "    </tr>\n",
       "    <tr>\n",
       "      <th>9</th>\n",
       "      <td>BLSTM-qtr</td>\n",
       "      <td>0.80783</td>\n",
       "      <td>0.60651</td>\n",
       "      <td>0.51697</td>\n",
       "      <td>0.73357</td>\n",
       "      <td>0.82662</td>\n",
       "      <td>0.85539</td>\n",
       "    </tr>\n",
       "    <tr>\n",
       "      <th>8</th>\n",
       "      <td>CNN-qtr</td>\n",
       "      <td>0.80087</td>\n",
       "      <td>0.60976</td>\n",
       "      <td>0.50447</td>\n",
       "      <td>0.77060</td>\n",
       "      <td>0.80852</td>\n",
       "      <td>0.86743</td>\n",
       "    </tr>\n",
       "    <tr>\n",
       "      <th>11</th>\n",
       "      <td>BLSTM</td>\n",
       "      <td>0.86584</td>\n",
       "      <td>0.73122</td>\n",
       "      <td>0.61392</td>\n",
       "      <td>0.90395</td>\n",
       "      <td>0.85620</td>\n",
       "      <td>0.93620</td>\n",
       "    </tr>\n",
       "    <tr>\n",
       "      <th>10</th>\n",
       "      <td>CNN</td>\n",
       "      <td>0.88562</td>\n",
       "      <td>0.76740</td>\n",
       "      <td>0.65096</td>\n",
       "      <td>0.93458</td>\n",
       "      <td>0.87324</td>\n",
       "      <td>0.95381</td>\n",
       "    </tr>\n",
       "  </tbody>\n",
       "</table>\n",
       "</div>"
      ],
      "text/plain": [
       "                 Algo  Accuracy      F1  Precision  Recall  Specificiy  \\\n",
       "5   temp-decisiontree   0.74597 0.46547    0.40455 0.54800     0.79603   \n",
       "1        decisiontree   0.73549 0.48053    0.39883 0.60433     0.76879   \n",
       "7       temp-logistic   0.74188 0.48623    0.40637 0.60516     0.77645   \n",
       "2        randomforest   0.74089 0.48739    0.40649 0.60849     0.77449   \n",
       "6   temp-randomforest   0.74188 0.49524    0.40908 0.62736     0.77084   \n",
       "3            logistic   0.72269 0.49108    0.39068 0.66093     0.73836   \n",
       "0            lightgbm   0.75948 0.52422    0.43718 0.65455     0.78611   \n",
       "4       temp-lightgbm   0.78623 0.57565    0.48024 0.71837     0.80340   \n",
       "9           BLSTM-qtr   0.80783 0.60651    0.51697 0.73357     0.82662   \n",
       "8             CNN-qtr   0.80087 0.60976    0.50447 0.77060     0.80852   \n",
       "11              BLSTM   0.86584 0.73122    0.61392 0.90395     0.85620   \n",
       "10                CNN   0.88562 0.76740    0.65096 0.93458     0.87324   \n",
       "\n",
       "    ROC_AUC  \n",
       "5   0.72135  \n",
       "1   0.73642  \n",
       "7   0.74694  \n",
       "2   0.75595  \n",
       "6   0.75801  \n",
       "3   0.76628  \n",
       "0   0.78912  \n",
       "4   0.83385  \n",
       "9   0.85539  \n",
       "8   0.86743  \n",
       "11  0.93620  \n",
       "10  0.95381  "
      ]
     },
     "execution_count": 61,
     "metadata": {},
     "output_type": "execute_result"
    }
   ],
   "source": [
    "metrics_12.sort_values('ROC_AUC')"
   ]
  },
  {
   "cell_type": "markdown",
   "metadata": {},
   "source": [
    "The thresholds used"
   ]
  },
  {
   "cell_type": "code",
   "execution_count": 62,
   "metadata": {
    "ExecuteTime": {
     "end_time": "2021-03-20T13:34:49.250589Z",
     "start_time": "2021-03-20T13:34:49.158220Z"
    }
   },
   "outputs": [],
   "source": [
    "def get_threshold_table(preds):\n",
    "    thresh = [[algo, val['threshold']] for algo, val in preds.items() if algo != 'y']\n",
    "    return pd.DataFrame(thresh, columns=['Algo', \"Threshold\"])\n",
    "\n",
    "threshold_6 = pd.concat([get_threshold_table(preds) for preds in [preds_6, st_preds_6, deep_st_preds_6, deep_preds_6]])\n",
    "threshold_12 = pd.concat([get_threshold_table(preds) for preds in [preds_12, st_preds_12, deep_st_preds_12, deep_preds_12]])"
   ]
  },
  {
   "cell_type": "code",
   "execution_count": 63,
   "metadata": {
    "ExecuteTime": {
     "end_time": "2021-03-20T13:34:49.320062Z",
     "start_time": "2021-03-20T13:34:49.252449Z"
    }
   },
   "outputs": [
    {
     "data": {
      "text/html": [
       "<div>\n",
       "<style scoped>\n",
       "    .dataframe tbody tr th:only-of-type {\n",
       "        vertical-align: middle;\n",
       "    }\n",
       "\n",
       "    .dataframe tbody tr th {\n",
       "        vertical-align: top;\n",
       "    }\n",
       "\n",
       "    .dataframe thead th {\n",
       "        text-align: right;\n",
       "    }\n",
       "</style>\n",
       "<table border=\"1\" class=\"dataframe\">\n",
       "  <thead>\n",
       "    <tr style=\"text-align: right;\">\n",
       "      <th></th>\n",
       "      <th>Algo</th>\n",
       "      <th>Threshold</th>\n",
       "    </tr>\n",
       "  </thead>\n",
       "  <tbody>\n",
       "    <tr>\n",
       "      <th>0</th>\n",
       "      <td>lightgbm</td>\n",
       "      <td>0.48435</td>\n",
       "    </tr>\n",
       "    <tr>\n",
       "      <th>1</th>\n",
       "      <td>decisiontree</td>\n",
       "      <td>0.46346</td>\n",
       "    </tr>\n",
       "    <tr>\n",
       "      <th>2</th>\n",
       "      <td>randomforest</td>\n",
       "      <td>0.43683</td>\n",
       "    </tr>\n",
       "    <tr>\n",
       "      <th>3</th>\n",
       "      <td>logistic</td>\n",
       "      <td>0.49003</td>\n",
       "    </tr>\n",
       "    <tr>\n",
       "      <th>0</th>\n",
       "      <td>temp-lightgbm</td>\n",
       "      <td>0.43639</td>\n",
       "    </tr>\n",
       "    <tr>\n",
       "      <th>1</th>\n",
       "      <td>temp-decisiontree</td>\n",
       "      <td>0.48485</td>\n",
       "    </tr>\n",
       "    <tr>\n",
       "      <th>2</th>\n",
       "      <td>temp-randomforest</td>\n",
       "      <td>0.43632</td>\n",
       "    </tr>\n",
       "    <tr>\n",
       "      <th>3</th>\n",
       "      <td>temp-logistic</td>\n",
       "      <td>0.18471</td>\n",
       "    </tr>\n",
       "    <tr>\n",
       "      <th>0</th>\n",
       "      <td>CNN-qtr</td>\n",
       "      <td>0.45293</td>\n",
       "    </tr>\n",
       "    <tr>\n",
       "      <th>1</th>\n",
       "      <td>BLSTM-qtr</td>\n",
       "      <td>0.54591</td>\n",
       "    </tr>\n",
       "    <tr>\n",
       "      <th>0</th>\n",
       "      <td>CNN</td>\n",
       "      <td>0.37200</td>\n",
       "    </tr>\n",
       "    <tr>\n",
       "      <th>1</th>\n",
       "      <td>BLSTM</td>\n",
       "      <td>0.48073</td>\n",
       "    </tr>\n",
       "  </tbody>\n",
       "</table>\n",
       "</div>"
      ],
      "text/plain": [
       "                Algo  Threshold\n",
       "0           lightgbm    0.48435\n",
       "1       decisiontree    0.46346\n",
       "2       randomforest    0.43683\n",
       "3           logistic    0.49003\n",
       "0      temp-lightgbm    0.43639\n",
       "1  temp-decisiontree    0.48485\n",
       "2  temp-randomforest    0.43632\n",
       "3      temp-logistic    0.18471\n",
       "0            CNN-qtr    0.45293\n",
       "1          BLSTM-qtr    0.54591\n",
       "0                CNN    0.37200\n",
       "1              BLSTM    0.48073"
      ]
     },
     "execution_count": 63,
     "metadata": {},
     "output_type": "execute_result"
    }
   ],
   "source": [
    "pd.set_option('display.float_format', lambda x: '%.5f' % x)\n",
    "threshold_6"
   ]
  },
  {
   "cell_type": "code",
   "execution_count": 64,
   "metadata": {
    "ExecuteTime": {
     "end_time": "2021-03-20T13:34:49.382768Z",
     "start_time": "2021-03-20T13:34:49.322081Z"
    }
   },
   "outputs": [
    {
     "data": {
      "text/html": [
       "<div>\n",
       "<style scoped>\n",
       "    .dataframe tbody tr th:only-of-type {\n",
       "        vertical-align: middle;\n",
       "    }\n",
       "\n",
       "    .dataframe tbody tr th {\n",
       "        vertical-align: top;\n",
       "    }\n",
       "\n",
       "    .dataframe thead th {\n",
       "        text-align: right;\n",
       "    }\n",
       "</style>\n",
       "<table border=\"1\" class=\"dataframe\">\n",
       "  <thead>\n",
       "    <tr style=\"text-align: right;\">\n",
       "      <th></th>\n",
       "      <th>Algo</th>\n",
       "      <th>Threshold</th>\n",
       "    </tr>\n",
       "  </thead>\n",
       "  <tbody>\n",
       "    <tr>\n",
       "      <th>0</th>\n",
       "      <td>lightgbm</td>\n",
       "      <td>0.51446</td>\n",
       "    </tr>\n",
       "    <tr>\n",
       "      <th>1</th>\n",
       "      <td>decisiontree</td>\n",
       "      <td>0.46753</td>\n",
       "    </tr>\n",
       "    <tr>\n",
       "      <th>2</th>\n",
       "      <td>randomforest</td>\n",
       "      <td>0.45088</td>\n",
       "    </tr>\n",
       "    <tr>\n",
       "      <th>3</th>\n",
       "      <td>logistic</td>\n",
       "      <td>0.49038</td>\n",
       "    </tr>\n",
       "    <tr>\n",
       "      <th>0</th>\n",
       "      <td>temp-lightgbm</td>\n",
       "      <td>0.42990</td>\n",
       "    </tr>\n",
       "    <tr>\n",
       "      <th>1</th>\n",
       "      <td>temp-decisiontree</td>\n",
       "      <td>0.48649</td>\n",
       "    </tr>\n",
       "    <tr>\n",
       "      <th>2</th>\n",
       "      <td>temp-randomforest</td>\n",
       "      <td>0.47041</td>\n",
       "    </tr>\n",
       "    <tr>\n",
       "      <th>3</th>\n",
       "      <td>temp-logistic</td>\n",
       "      <td>0.49653</td>\n",
       "    </tr>\n",
       "    <tr>\n",
       "      <th>0</th>\n",
       "      <td>CNN-qtr</td>\n",
       "      <td>0.49564</td>\n",
       "    </tr>\n",
       "    <tr>\n",
       "      <th>1</th>\n",
       "      <td>BLSTM-qtr</td>\n",
       "      <td>0.55969</td>\n",
       "    </tr>\n",
       "    <tr>\n",
       "      <th>0</th>\n",
       "      <td>CNN</td>\n",
       "      <td>0.38252</td>\n",
       "    </tr>\n",
       "    <tr>\n",
       "      <th>1</th>\n",
       "      <td>BLSTM</td>\n",
       "      <td>0.31312</td>\n",
       "    </tr>\n",
       "  </tbody>\n",
       "</table>\n",
       "</div>"
      ],
      "text/plain": [
       "                Algo  Threshold\n",
       "0           lightgbm    0.51446\n",
       "1       decisiontree    0.46753\n",
       "2       randomforest    0.45088\n",
       "3           logistic    0.49038\n",
       "0      temp-lightgbm    0.42990\n",
       "1  temp-decisiontree    0.48649\n",
       "2  temp-randomforest    0.47041\n",
       "3      temp-logistic    0.49653\n",
       "0            CNN-qtr    0.49564\n",
       "1          BLSTM-qtr    0.55969\n",
       "0                CNN    0.38252\n",
       "1              BLSTM    0.31312"
      ]
     },
     "execution_count": 64,
     "metadata": {},
     "output_type": "execute_result"
    }
   ],
   "source": [
    "threshold_12"
   ]
  },
  {
   "cell_type": "markdown",
   "metadata": {},
   "source": [
    "## Get a normalized confusion matrix\n",
    "\n",
    "We will plot the confusion matrix for the deep learning models"
   ]
  },
  {
   "cell_type": "code",
   "execution_count": null,
   "metadata": {
    "ExecuteTime": {
     "end_time": "2021-03-20T13:34:50.739012Z",
     "start_time": "2021-03-20T13:34:49.385129Z"
    }
   },
   "outputs": [],
   "source": [
    "from mlxtend.plotting import plot_confusion_matrix\n",
    "\n",
    "cm = confusion_matrix(deep_preds_6['y'], deep_preds_6['CNN']['pred'])\n",
    "\n",
    "fig6, ax = plot_confusion_matrix(conf_mat=cm, show_normed=True, show_absolute=False,\n",
    "                     class_names=['Negative', 'Positive'], figsize=(5,5),\n",
    "                               cmap='Reds')\n",
    "fig7, ax = plot_confusion_matrix(conf_mat=cm, show_normed=False, show_absolute=True,\n",
    "                     class_names=['Negative', 'Positive'], figsize=(5,5),\n",
    "                               cmap='Reds')\n",
    "\n",
    "ax.set_xlabel('Predicted class', fontdict=dict(weight='bold', size=12))\n",
    "ax.set_ylabel('Actual class', fontdict=dict(weight='bold', size=12))\n",
    "ax.tick_params(axis = 'both', which = 'major', labelsize = 11, rotation=0)\n",
    "ax.tick_params(axis = 'x', which = 'major', labelsize = 11, rotation=0, pad=10)\n",
    "\n",
    "annotations = [child for child in ax.get_children() if isinstance(child, matplotlib.text.Text)][:4]\n",
    "for txt in annotations:\n",
    "    txt.set_fontsize(14)\n",
    "\n",
    "plt.title('Confusion matrix for 6 months', fontdict={'size': 12, 'weight': 'bold'})"
   ]
  },
  {
   "cell_type": "code",
   "execution_count": null,
   "metadata": {
    "ExecuteTime": {
     "start_time": "2021-03-20T13:29:22.375Z"
    }
   },
   "outputs": [],
   "source": [
    "from mlxtend.plotting import plot_confusion_matrix\n",
    "\n",
    "cm = confusion_matrix(deep_preds_12['y'], deep_preds_12['CNN']['pred'])\n",
    "\n",
    "fig12, ax = plot_confusion_matrix(conf_mat=cm, show_normed=True, show_absolute=False,\n",
    "                     class_names=['Negative', 'Positive'], figsize=(5,5),\n",
    "                               cmap='Reds')\n",
    "fig13, ax = plot_confusion_matrix(conf_mat=cm, show_normed=False, show_absolute=True,\n",
    "                     class_names=['Negative', 'Positive'], figsize=(5,5),\n",
    "                               cmap='Reds')\n",
    "\n",
    "ax.set_xlabel('Predicted class', fontdict=dict(weight='bold', size=12))\n",
    "ax.set_ylabel('Actual class', fontdict=dict(weight='bold', size=12))\n",
    "ax.tick_params(axis = 'both', which = 'major', labelsize = 11, rotation=0)\n",
    "ax.tick_params(axis = 'x', which = 'major', labelsize = 11, rotation=0, pad=10)\n",
    "\n",
    "annotations = [child for child in ax.get_children() if isinstance(child, matplotlib.text.Text)][:4]\n",
    "for txt in annotations:\n",
    "    txt.set_fontsize(14)\n",
    "    \n",
    "plt.title('Confusion matrix for 12 months', fontdict={'size': 12, 'weight': 'bold'})"
   ]
  },
  {
   "cell_type": "markdown",
   "metadata": {},
   "source": [
    "## Get ROC curve"
   ]
  },
  {
   "cell_type": "code",
   "execution_count": 37,
   "metadata": {
    "ExecuteTime": {
     "start_time": "2021-03-20T13:29:22.380Z"
    }
   },
   "outputs": [
    {
     "data": {
      "image/png": "[encoded data removed]",
      "text/plain": [
       "<Figure size 432x432 with 1 Axes>"
      ]
     },
     "metadata": {
      "needs_background": "light"
     },
     "output_type": "display_data"
    }
   ],
   "source": [
    "fig = plt.figure(figsize=(6,6))\n",
    "\n",
    "lw = 2\n",
    "\n",
    "for algo, model in deep_preds_6.items():\n",
    "    if algo == 'y':\n",
    "        continue\n",
    "    fpr, tpr, thresh = roc_curve(deep_preds_6['y'], deep_preds_6[algo]['pred_proba'])\n",
    "    auc = roc_auc_score(deep_preds_6['y'], deep_preds_6[algo]['pred_proba'])\n",
    "    auc = round(auc, 3)\n",
    "    plt.plot(fpr,tpr, label=algo+f' ({auc})', lw=lw)\n",
    "    \n",
    "# youden's index for CNN\n",
    "# fpr, tpr, thresh = roc_curve(deep_preds_6['y'], deep_preds_6['CNN']['pred_proba'])\n",
    "# optimal_idx = np.argmax(tpr - fpr)\n",
    "# optimal_threshold = thresh[optimal_idx]\n",
    "# print(optimal_threshold, optimal_idx)\n",
    "# plt.scatter(fpr[optimal_idx], tpr[optimal_idx], marker='x', color='black',\n",
    "#             lw=lw, s=150, zorder=5,\n",
    "#             label='CNN Youden index')\n",
    "# plt.text(fpr[optimal_idx]-.02, tpr[optimal_idx]+.04, round(optimal_threshold, 2))\n",
    "\n",
    "# Semi-temporal algos\n",
    "for algo, model in st_deep_preds_6.items():\n",
    "    if algo == 'y':\n",
    "        continue\n",
    "    if algo != 'CNN-qtr':  # uncomment to plot all models\n",
    "        continue\n",
    "    fpr, tpr, thresh = roc_curve(st_deep_preds_6['y'], st_deep_preds_6[algo]['pred_proba'])\n",
    "    auc = roc_auc_score(st_deep_preds_6['y'], st_deep_preds_6[algo]['pred_proba'])\n",
    "    auc = round(auc, 3)\n",
    "    plt.plot(fpr,tpr, label=algo+f' ({auc})', lw=lw)\n",
    "    \n",
    "rocs = []\n",
    "for algo, model in st_preds_6.items():\n",
    "    if algo == 'y':\n",
    "        continue\n",
    "    if algo != 'temp-lightgbm':  # uncomment to plot all models\n",
    "        continue\n",
    "    fpr, tpr, thresh = roc_curve(st_preds_6['y'], st_preds_6[algo]['pred_proba'])\n",
    "    auc = roc_auc_score(st_preds_6['y'], st_preds_6[algo]['pred_proba'])\n",
    "    auc = round(auc, 3)\n",
    "    rocs.append((algo, auc, [fpr, tpr]))\n",
    "# sort legend by AUC\n",
    "rocs = sorted(rocs, key=lambda x: x[1], reverse=True)\n",
    "for algo, auc, [fpr, tpr] in rocs:    \n",
    "    plt.plot(fpr,tpr, label=algo+f' ({auc})', lw=lw)\n",
    "\n",
    "    \n",
    "# ML algos\n",
    "rocs = []\n",
    "for algo, model in preds_6.items():\n",
    "    if algo == 'y':\n",
    "        continue\n",
    "    if algo != 'lightgbm':  # uncomment to plot all models\n",
    "        continue\n",
    "    fpr, tpr, thresh = roc_curve(preds_6['y'], preds_6[algo]['pred_proba'])\n",
    "    auc = roc_auc_score(preds_6['y'], preds_6[algo]['pred_proba'])\n",
    "    auc = round(auc, 3)\n",
    "    rocs.append((algo, auc, [fpr, tpr]))\n",
    "# sort legend by AUC\n",
    "rocs = sorted(rocs, key=lambda x: x[1], reverse=True)\n",
    "for algo, auc, [fpr, tpr] in rocs:    \n",
    "    plt.plot(fpr,tpr, label=algo+f' ({auc})', lw=lw)\n",
    "    \n",
    "# chance line\n",
    "plt.plot([0, 1], [0, 1], color='navy', label='chance line (0.5)', linestyle='--', lw=lw)\n",
    "plt.xlabel('1 - Specificity')\n",
    "plt.ylabel('Sensitivity')\n",
    "# plt.title('ROC curve for 6 months', size=12)\n",
    "plt.text(0.7,0.3, '6 month', fontsize=12)\n",
    "plt.grid(linewidth=1.2, color='lightgray')\n",
    "plt.legend(loc='lower right')"
   ]
  },
  {
   "cell_type": "code",
   "execution_count": 38,
   "metadata": {
    "ExecuteTime": {
     "start_time": "2021-03-20T13:29:22.385Z"
    }
   },
   "outputs": [
    {
     "data": {
      "image/png": "[encoded data removed]",
      "text/plain": [
       "<Figure size 432x432 with 1 Axes>"
      ]
     },
     "metadata": {
      "needs_background": "light"
     },
     "output_type": "display_data"
    }
   ],
   "source": [
    "fig = plt.figure(figsize=(6,6))\n",
    "\n",
    "lw = 2\n",
    "\n",
    "for algo, model in deep_preds_12.items():\n",
    "    if algo == 'y':\n",
    "        continue\n",
    "    fpr, tpr, thresh = roc_curve(deep_preds_12['y'], deep_preds_12[algo]['pred_proba'])\n",
    "    auc = roc_auc_score(deep_preds_12['y'], deep_preds_12[algo]['pred_proba'])\n",
    "    auc = round(auc, 3)\n",
    "    plt.plot(fpr,tpr, label=algo+f' ({auc})', lw=lw)\n",
    "    \n",
    "# # youden's index for CNN\n",
    "# fpr, tpr, thresh = roc_curve(deep_preds_12['y'], deep_preds_12['CNN']['pred_proba'])\n",
    "# optimal_idx = np.argmax(tpr - fpr)\n",
    "# optimal_threshold = thresh[optimal_idx]\n",
    "# print(optimal_threshold, optimal_idx)\n",
    "# plt.scatter(fpr[optimal_idx], tpr[optimal_idx], marker='x', color='black',\n",
    "#             lw=lw, s=150, zorder=5,\n",
    "#             label='CNN Youden index')\n",
    "# plt.text(fpr[optimal_idx]-.02, tpr[optimal_idx]+.04, round(optimal_threshold, 2))\n",
    "\n",
    "# Semi-temporal algos    \n",
    "for algo, model in st_deep_preds_12.items():\n",
    "    if algo == 'y':\n",
    "        continue\n",
    "    if algo != 'CNN-qtr':  # uncomment to plot all models\n",
    "        continue\n",
    "    fpr, tpr, thresh = roc_curve(st_deep_preds_12['y'], st_deep_preds_12[algo]['pred_proba'])\n",
    "    auc = roc_auc_score(st_deep_preds_12['y'], st_deep_preds_12[algo]['pred_proba'])\n",
    "    auc = round(auc, 3)\n",
    "    plt.plot(fpr,tpr, label=algo+f' ({auc})', lw=lw)\n",
    "    \n",
    "rocs = []\n",
    "for algo, model in st_preds_12.items():\n",
    "    if algo == 'y':\n",
    "        continue\n",
    "    if algo != 'temp-lightgbm':  # uncomment to plot all models\n",
    "        continue\n",
    "    fpr, tpr, thresh = roc_curve(st_preds_12['y'], st_preds_12[algo]['pred_proba'])\n",
    "    auc = roc_auc_score(st_preds_12['y'], st_preds_12[algo]['pred_proba'])\n",
    "    auc = round(auc, 3)\n",
    "    rocs.append((algo, auc, [fpr, tpr]))\n",
    "# sort legend by AUC\n",
    "rocs = sorted(rocs, key=lambda x: x[1], reverse=True)\n",
    "for algo, auc, [fpr, tpr] in rocs:    \n",
    "    plt.plot(fpr,tpr, label=algo+f' ({auc})', lw=lw)\n",
    "\n",
    "    \n",
    "# ML algos\n",
    "rocs = []\n",
    "for algo, model in preds_12.items():\n",
    "    if algo == 'y':\n",
    "        continue\n",
    "    if algo != 'lightgbm':  # uncomment to plot all models\n",
    "        continue\n",
    "    fpr, tpr, thresh = roc_curve(preds_12['y'], preds_12[algo]['pred_proba'])\n",
    "    auc = roc_auc_score(preds_12['y'], preds_12[algo]['pred_proba'])\n",
    "    auc = round(auc, 3)\n",
    "    rocs.append((algo, auc, [fpr, tpr]))\n",
    "# sort legend by AUC\n",
    "rocs = sorted(rocs, key=lambda x: x[1], reverse=True)\n",
    "for algo, auc, [fpr, tpr] in rocs:    \n",
    "    plt.plot(fpr,tpr, label=algo+f' ({auc})', lw=lw)\n",
    "    \n",
    "# chance line\n",
    "plt.plot([0, 1], [0, 1], color='navy', label='chance line (0.5)', linestyle='--', lw=lw)\n",
    "plt.xlabel('1 - Specificity')\n",
    "plt.ylabel('Sensitivity')\n",
    "# plt.title('ROC curve for 12 months', size=12)\n",
    "plt.text(0.7,0.3, '12 month', fontsize=12)\n",
    "plt.grid(linewidth=1.2, color='lightgray')\n",
    "plt.legend(loc='lower right')"
   ]
  },
  {
   "cell_type": "markdown",
   "metadata": {},
   "source": [
    "## Clean up\n",
    "\n",
    "Delete all the predictions cached locally"
   ]
  },
  {
   "cell_type": "code",
   "execution_count": null,
   "metadata": {
    "ExecuteTime": {
     "start_time": "2021-03-20T13:29:22.390Z"
    }
   },
   "outputs": [],
   "source": [
    "! rm *.joblib"
   ]
  }
 ],
 "metadata": {
  "kernelspec": {
   "display_name": "Python 3",
   "language": "python",
   "name": "python3"
  },
  "language_info": {
   "codemirror_mode": {
    "name": "ipython",
    "version": 3
   },
   "file_extension": ".py",
   "mimetype": "text/x-python",
   "name": "python",
   "nbconvert_exporter": "python",
   "pygments_lexer": "ipython3",
   "version": "3.6.9"
  },
  "toc": {
   "base_numbering": 1,
   "nav_menu": {
    "height": "285px",
    "width": "250px"
   },
   "number_sections": true,
   "sideBar": true,
   "skip_h1_title": false,
   "title_cell": "Table of Contents",
   "title_sidebar": "Contents",
   "toc_cell": false,
   "toc_position": {
    "height": "calc(100% - 180px)",
    "left": "10px",
    "top": "150px",
    "width": "187.8px"
   },
   "toc_section_display": true,
   "toc_window_display": true
  },
  "varInspector": {
   "cols": {
    "lenName": 16,
    "lenType": 16,
    "lenVar": 40
   },
   "kernels_config": {
    "python": {
     "delete_cmd_postfix": "",
     "delete_cmd_prefix": "del ",
     "library": "var_list.py",
     "varRefreshCmd": "print(var_dic_list())"
    },
    "r": {
     "delete_cmd_postfix": ") ",
     "delete_cmd_prefix": "rm(",
     "library": "var_list.r",
     "varRefreshCmd": "cat(var_dic_list()) "
    }
   },
   "types_to_exclude": [
    "module",
    "function",
    "builtin_function_or_method",
    "instance",
    "_Feature"
   ],
   "window_display": false
  }
 },
 "nbformat": 4,
 "nbformat_minor": 4
}